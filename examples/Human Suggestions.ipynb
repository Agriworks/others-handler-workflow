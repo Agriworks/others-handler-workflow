{
  "cells": [
    {
      "cell_type": "markdown",
      "metadata": {
        "id": "wI6bXpZYOksE"
      },
      "source": [
        "<h1>Data Preprocessing</h1>\n"
      ]
    },
    {
      "cell_type": "code",
      "execution_count": 1,
      "metadata": {
        "colab": {
          "base_uri": "https://localhost:8080/",
          "height": 226
        },
        "id": "Ju0-v8hacs8N",
        "outputId": "e14064ed-626e-444e-b3e9-a77c55e4e514"
      },
      "outputs": [
        {
          "data": {
            "text/html": [
              "<div>\n",
              "<style scoped>\n",
              "    .dataframe tbody tr th:only-of-type {\n",
              "        vertical-align: middle;\n",
              "    }\n",
              "\n",
              "    .dataframe tbody tr th {\n",
              "        vertical-align: top;\n",
              "    }\n",
              "\n",
              "    .dataframe thead th {\n",
              "        text-align: right;\n",
              "    }\n",
              "</style>\n",
              "<table border=\"1\" class=\"dataframe\">\n",
              "  <thead>\n",
              "    <tr style=\"text-align: right;\">\n",
              "      <th></th>\n",
              "      <th>column_name</th>\n",
              "      <th>unique_value</th>\n",
              "      <th>replacement_value</th>\n",
              "      <th>delete_value</th>\n",
              "      <th>suggested_value</th>\n",
              "      <th>new_column_name</th>\n",
              "      <th>new_column_value</th>\n",
              "      <th>new_column_name.1</th>\n",
              "      <th>new_column_value.1</th>\n",
              "      <th>delete_column_value</th>\n",
              "    </tr>\n",
              "  </thead>\n",
              "  <tbody>\n",
              "    <tr>\n",
              "      <th>0</th>\n",
              "      <td>h1_income_other_specify</td>\n",
              "      <td>Tailoring</td>\n",
              "      <td>Tailor</td>\n",
              "      <td>False</td>\n",
              "      <td>NaN</td>\n",
              "      <td>h1_income_other_specify_reclassification</td>\n",
              "      <td>h1_income_business_amt</td>\n",
              "      <td>NaN</td>\n",
              "      <td>NaN</td>\n",
              "      <td>NaN</td>\n",
              "    </tr>\n",
              "    <tr>\n",
              "      <th>1</th>\n",
              "      <td>h1_income_other_specify</td>\n",
              "      <td>Driver</td>\n",
              "      <td>NaN</td>\n",
              "      <td>False</td>\n",
              "      <td>NaN</td>\n",
              "      <td>h1_income_other_specify_reclassification</td>\n",
              "      <td>h1_income_wages_amt</td>\n",
              "      <td>NaN</td>\n",
              "      <td>NaN</td>\n",
              "      <td>NaN</td>\n",
              "    </tr>\n",
              "    <tr>\n",
              "      <th>2</th>\n",
              "      <td>h1_income_other_specify</td>\n",
              "      <td>Ammavadi</td>\n",
              "      <td>NaN</td>\n",
              "      <td>False</td>\n",
              "      <td>NaN</td>\n",
              "      <td>h1_income_other_specify_reclassification</td>\n",
              "      <td>h1_income_govt_amt</td>\n",
              "      <td>NaN</td>\n",
              "      <td>NaN</td>\n",
              "      <td>NaN</td>\n",
              "    </tr>\n",
              "    <tr>\n",
              "      <th>3</th>\n",
              "      <td>h1_income_other_specify</td>\n",
              "      <td>Lari Driver</td>\n",
              "      <td>Lorry Driver</td>\n",
              "      <td>False</td>\n",
              "      <td>NaN</td>\n",
              "      <td>h1_income_other_specify_reclassification</td>\n",
              "      <td>h1_income_wages_amt</td>\n",
              "      <td>NaN</td>\n",
              "      <td>NaN</td>\n",
              "      <td>NaN</td>\n",
              "    </tr>\n",
              "    <tr>\n",
              "      <th>4</th>\n",
              "      <td>h1_income_other_specify</td>\n",
              "      <td>Travels</td>\n",
              "      <td>NaN</td>\n",
              "      <td>False</td>\n",
              "      <td>NaN</td>\n",
              "      <td>h1_income_other_specify_reclassification</td>\n",
              "      <td>h1_income_business_amt</td>\n",
              "      <td>NaN</td>\n",
              "      <td>NaN</td>\n",
              "      <td>NaN</td>\n",
              "    </tr>\n",
              "  </tbody>\n",
              "</table>\n",
              "</div>"
            ],
            "text/plain": [
              "               column_name unique_value replacement_value  delete_value  \\\n",
              "0  h1_income_other_specify    Tailoring            Tailor         False   \n",
              "1  h1_income_other_specify       Driver               NaN         False   \n",
              "2  h1_income_other_specify     Ammavadi               NaN         False   \n",
              "3  h1_income_other_specify  Lari Driver      Lorry Driver         False   \n",
              "4  h1_income_other_specify      Travels               NaN         False   \n",
              "\n",
              "   suggested_value                           new_column_name  \\\n",
              "0              NaN  h1_income_other_specify_reclassification   \n",
              "1              NaN  h1_income_other_specify_reclassification   \n",
              "2              NaN  h1_income_other_specify_reclassification   \n",
              "3              NaN  h1_income_other_specify_reclassification   \n",
              "4              NaN  h1_income_other_specify_reclassification   \n",
              "\n",
              "         new_column_value new_column_name.1 new_column_value.1  \\\n",
              "0  h1_income_business_amt               NaN                NaN   \n",
              "1     h1_income_wages_amt               NaN                NaN   \n",
              "2      h1_income_govt_amt               NaN                NaN   \n",
              "3     h1_income_wages_amt               NaN                NaN   \n",
              "4  h1_income_business_amt               NaN                NaN   \n",
              "\n",
              "   delete_column_value  \n",
              "0                  NaN  \n",
              "1                  NaN  \n",
              "2                  NaN  \n",
              "3                  NaN  \n",
              "4                  NaN  "
            ]
          },
          "execution_count": 1,
          "metadata": {},
          "output_type": "execute_result"
        }
      ],
      "source": [
        "import pandas as pd\n",
        "\n",
        "df = pd.read_csv(\"human_entry_suggestions 3.csv\")\n",
        "df.head()"
      ]
    },
    {
      "cell_type": "code",
      "execution_count": 2,
      "metadata": {
        "id": "OjU85tLXc4YH"
      },
      "outputs": [],
      "source": [
        "listOfColumnNames = []\n",
        "for i in range(len(df)):\n",
        "  listOfColumnNames.append(df.iloc[i][\"column_name\"])"
      ]
    },
    {
      "cell_type": "code",
      "execution_count": 3,
      "metadata": {
        "id": "E_v__JhfdRzr"
      },
      "outputs": [],
      "source": [
        "listOfColumnNames = list(set(listOfColumnNames))\n"
      ]
    },
    {
      "cell_type": "code",
      "execution_count": 4,
      "metadata": {
        "colab": {
          "base_uri": "https://localhost:8080/"
        },
        "id": "7oiIliixdjuA",
        "outputId": "7298fd74-a33a-4182-c696-83275730405f"
      },
      "outputs": [
        {
          "data": {
            "text/plain": [
              "{'h1_income_other_specify': ['Tailoring',\n",
              "  'Driver',\n",
              "  'Ammavadi',\n",
              "  'Lari Driver',\n",
              "  'Travels',\n",
              "  'Contract worker',\n",
              "  'Bullero (auto)',\n",
              "  'Dairy',\n",
              "  'Millets&bullero',\n",
              "  'Chakali ( battalu wash)',\n",
              "  'Tractor',\n",
              "  'Lari',\n",
              "  'Tailor',\n",
              "  'Auto',\n",
              "  'Cloths Iron',\n",
              "  'Track tar',\n",
              "  'Lari driver',\n",
              "  'RMP Docter',\n",
              "  'Tracter',\n",
              "  'NREGS',\n",
              "  'Chepalu pattadam',\n",
              "  '24000'],\n",
              " 'h1_exp_other_specify': ['Beedi'],\n",
              " 'h3_crop1other': ['Yaragadd',\n",
              "  'Dhaniyalu',\n",
              "  'Nimma',\n",
              "  'Pasuvula gaddi(sappa)',\n",
              "  'Brinjal',\n",
              "  'Bengal gram',\n",
              "  'Coriander',\n",
              "  'Daniyalu'],\n",
              " 'h3_crop1otherpaddy': ['Sona', 'JJL'],\n",
              " 'h3_crop1othercereal': ['Horsegram', 'Nuvulu'],\n",
              " 'h3_crop1otherpulse': ['Senagalu', 'Corn', 'Senaga', 'Hursgram'],\n",
              " 'h3_crop1otherfruit': ['Sannimma',\n",
              "  'Sweet lemon 1',\n",
              "  'Nimma',\n",
              "  'Lemon',\n",
              "  'Sweet lemon'],\n",
              " 'h3_crop1othervegetable': ['Carrot', 'Brinjal'],\n",
              " 'h3_crop1otheroilseed': ['Pamaroja oil', 'Amudham'],\n",
              " 'h3_crop1_lossother': ['Aakumachha tegulu',\n",
              "  'Verukullu thegulu',\n",
              "  'Pogamanchu valana putha rarli poindi',\n",
              "  nan,\n",
              "  'Kayakulllu thegulu',\n",
              "  'Mojaek thegulu'],\n",
              " 'h3_crop1soldunit_oth': ['28', 'Groundnut oil', 'Tons'],\n",
              " 'h3_crop2other': ['Jowar', 'Mokka jonna', 'Daniyalu'],\n",
              " 'h3_crop2otherpaddy': ['Sona'],\n",
              " 'h3_crop2othercereal': ['Godhuma', 'Mokaajonna', 'Horsegram'],\n",
              " 'h3_crop2otherpulse': ['Vuddhulu', 'Senaga'],\n",
              " 'h3_crop2otherfruit': ['Nimma'],\n",
              " 'h3_crop2othervegetable': ['Beetroot'],\n",
              " 'h3_crop2_lossother': ['No'],\n",
              " 'h3_crop3other': ['Mokka jonna', 'Daniyalu'],\n",
              " 'h3_crop3othercereal': ['Horsegram'],\n",
              " 'h3_crop3othervegetable': ['Carrot', 'Leady finger (benda)'],\n",
              " 'h3_crop4other': ['Daniyalu'],\n",
              " 'h3_crop4othervegetable': ['Betroot'],\n",
              " 'h3_kgcrop1othercereal': ['Mokka jonna'],\n",
              " 'h3_kgcrop1othervegetable': ['Brinjal'],\n",
              " 'h3_kgcrop1otheroilseed': ['Avisha'],\n",
              " 'h2_income_other_specify': ['Angadi',\n",
              "  'Tractor& milk Dairy',\n",
              "  'Tractor',\n",
              "  nan,\n",
              "  'Laridriver',\n",
              "  'RMP Doctor',\n",
              "  'Paladairy',\n",
              "  'Bollero',\n",
              "  'Tailor',\n",
              "  'Auto',\n",
              "  'Tractor&Bollero',\n",
              "  'Dhobi'],\n",
              " 'h4_crop1other': ['Kora',\n",
              "  'Vudhulu',\n",
              "  'Dosa',\n",
              "  'Carrot',\n",
              "  'Nimma',\n",
              "  'Coriander leaves',\n",
              "  'Korra',\n",
              "  'Maize',\n",
              "  'Mokkajonna',\n",
              "  'Vakka chetlu',\n",
              "  'Sabja',\n",
              "  'Jonna',\n",
              "  'Daniyalu'],\n",
              " 'h4_crop1othercereal': ['Mokkajona',\n",
              "  'Mokaajonna',\n",
              "  'Maize',\n",
              "  'Mokkajonna',\n",
              "  'Mokajonna',\n",
              "  'Mokaajona'],\n",
              " 'h4_crop1othercotton': ['Bt cotton', 'Sreeram'],\n",
              " 'h4_crop1otherfruit': ['Lemon'],\n",
              " 'h4_crop1otheroilseed': ['Amudham'],\n",
              " 'h4_crop1otherpulse': ['Vudhulu'],\n",
              " 'h4_crop1othervegetable': ['Carrot', 'Correct', 'Kakara'],\n",
              " 'h4_crop2other': ['Coriander', 'Korra', 'Daniyalu'],\n",
              " 'h4_crop2othercereal': ['Mokaajona']}"
            ]
          },
          "execution_count": 4,
          "metadata": {},
          "output_type": "execute_result"
        }
      ],
      "source": [
        "unique_values_dict = {}\n",
        "\n",
        "for _, row in df.iterrows():\n",
        "    column_name, unique_value = row['column_name'], row['unique_value']\n",
        "    if column_name in unique_values_dict:\n",
        "        if unique_value not in unique_values_dict[column_name]:\n",
        "            unique_values_dict[column_name].append(unique_value)\n",
        "    else:\n",
        "        unique_values_dict[column_name] = [unique_value]\n",
        "unique_values_dict\n"
      ]
    },
    {
      "cell_type": "markdown",
      "metadata": {
        "id": "b2jImP4zPsUv"
      },
      "source": [
        "<h1> Approach 1: Using FuzzyWuzzy + Levensthein Distance\n"
      ]
    },
    {
      "cell_type": "code",
      "execution_count": 5,
      "metadata": {
        "colab": {
          "base_uri": "https://localhost:8080/"
        },
        "id": "NqnG6v-_OBG4",
        "outputId": "1adaae39-d2e4-4a43-8900-eb34ff824264"
      },
      "outputs": [
        {
          "name": "stdout",
          "output_type": "stream",
          "text": [
            "Collecting fuzzywuzzy\n",
            "  Obtaining dependency information for fuzzywuzzy from https://files.pythonhosted.org/packages/43/ff/74f23998ad2f93b945c0309f825be92e04e0348e062026998b5eefef4c33/fuzzywuzzy-0.18.0-py2.py3-none-any.whl.metadata\n",
            "  Downloading fuzzywuzzy-0.18.0-py2.py3-none-any.whl.metadata (4.9 kB)\n",
            "Downloading fuzzywuzzy-0.18.0-py2.py3-none-any.whl (18 kB)\n",
            "Installing collected packages: fuzzywuzzy\n",
            "Successfully installed fuzzywuzzy-0.18.0\n"
          ]
        }
      ],
      "source": [
        "!pip install fuzzywuzzy"
      ]
    },
    {
      "cell_type": "code",
      "execution_count": 7,
      "metadata": {
        "colab": {
          "base_uri": "https://localhost:8080/"
        },
        "id": "vd9yKWpFoTk8",
        "outputId": "24f04102-74b8-4d2f-9030-c04a279bb946"
      },
      "outputs": [
        {
          "data": {
            "text/plain": [
              "{'h1_income_other_specify': [['Tailoring', 'Tailor'],\n",
              "  ['Driver', 'Lari Driver', 'Lari driver'],\n",
              "  ['Ammavadi'],\n",
              "  ['Travels'],\n",
              "  ['Contract worker'],\n",
              "  ['Bullero (auto)', 'Auto'],\n",
              "  ['Dairy'],\n",
              "  ['Millets&bullero'],\n",
              "  ['Chakali ( battalu wash)'],\n",
              "  ['Tractor', 'Tracter'],\n",
              "  ['Lari', 'Lari Driver', 'Lari driver'],\n",
              "  ['Cloths Iron'],\n",
              "  ['Track tar'],\n",
              "  ['RMP Docter'],\n",
              "  ['NREGS'],\n",
              "  ['Chepalu pattadam'],\n",
              "  ['24000']],\n",
              " 'h1_exp_other_specify': [['Beedi']],\n",
              " 'h3_crop1other': [['Yaragadd'],\n",
              "  ['Dhaniyalu', 'Daniyalu'],\n",
              "  ['Nimma'],\n",
              "  ['Pasuvula gaddi(sappa)'],\n",
              "  ['Brinjal'],\n",
              "  ['Bengal gram'],\n",
              "  ['Coriander']],\n",
              " 'h3_crop1otherpaddy': [['Sona'], ['JJL']],\n",
              " 'h3_crop1othercereal': [['Horsegram'], ['Nuvulu']],\n",
              " 'h3_crop1otherpulse': [['Senagalu', 'Senaga'], ['Corn'], ['Hursgram']],\n",
              " 'h3_crop1otherfruit': [['Sannimma', 'Nimma'],\n",
              "  ['Sweet lemon 1', 'Sweet lemon', 'Lemon']],\n",
              " 'h3_crop1othervegetable': [['Carrot'], ['Brinjal']],\n",
              " 'h3_crop1otheroilseed': [['Pamaroja oil'], ['Amudham']],\n",
              " 'h3_crop1_lossother': [['Aakumachha tegulu'],\n",
              "  ['Verukullu thegulu'],\n",
              "  ['Pogamanchu valana putha rarli poindi'],\n",
              "  ['Kayakulllu thegulu'],\n",
              "  ['Mojaek thegulu']],\n",
              " 'h3_crop1soldunit_oth': [['28'], ['Groundnut oil'], ['Tons']],\n",
              " 'h3_crop2other': [['Jowar'], ['Mokka jonna'], ['Daniyalu']],\n",
              " 'h3_crop2otherpaddy': [['Sona']],\n",
              " 'h3_crop2othercereal': [['Godhuma'], ['Mokaajonna'], ['Horsegram']],\n",
              " 'h3_crop2otherpulse': [['Vuddhulu'], ['Senaga']],\n",
              " 'h3_crop2otherfruit': [['Nimma']],\n",
              " 'h3_crop2othervegetable': [['Beetroot']],\n",
              " 'h3_crop2_lossother': [['No']],\n",
              " 'h3_crop3other': [['Mokka jonna'], ['Daniyalu']],\n",
              " 'h3_crop3othercereal': [['Horsegram']],\n",
              " 'h3_crop3othervegetable': [['Carrot'], ['Leady finger (benda)']],\n",
              " 'h3_crop4other': [['Daniyalu']],\n",
              " 'h3_crop4othervegetable': [['Betroot']],\n",
              " 'h3_kgcrop1othercereal': [['Mokka jonna']],\n",
              " 'h3_kgcrop1othervegetable': [['Brinjal']],\n",
              " 'h3_kgcrop1otheroilseed': [['Avisha']],\n",
              " 'h2_income_other_specify': [['Angadi'],\n",
              "  ['Tractor& milk Dairy', 'Tractor'],\n",
              "  ['Laridriver'],\n",
              "  ['RMP Doctor'],\n",
              "  ['Paladairy'],\n",
              "  ['Bollero', 'Tractor&Bollero'],\n",
              "  ['Tailor'],\n",
              "  ['Auto'],\n",
              "  ['Dhobi']],\n",
              " 'h4_crop1other': [['Kora', 'Korra'],\n",
              "  ['Vudhulu'],\n",
              "  ['Dosa'],\n",
              "  ['Carrot'],\n",
              "  ['Nimma'],\n",
              "  ['Coriander leaves'],\n",
              "  ['Maize'],\n",
              "  ['Mokkajonna', 'Jonna'],\n",
              "  ['Vakka chetlu'],\n",
              "  ['Sabja'],\n",
              "  ['Daniyalu']],\n",
              " 'h4_crop1othercereal': [['Mokkajona',\n",
              "   'Mokkajonna',\n",
              "   'Mokajonna',\n",
              "   'Mokaajona',\n",
              "   'Mokaajonna'],\n",
              "  ['Maize']],\n",
              " 'h4_crop1othercotton': [['Bt cotton'], ['Sreeram']],\n",
              " 'h4_crop1otherfruit': [['Lemon']],\n",
              " 'h4_crop1otheroilseed': [['Amudham']],\n",
              " 'h4_crop1otherpulse': [['Vudhulu']],\n",
              " 'h4_crop1othervegetable': [['Carrot'], ['Correct'], ['Kakara']],\n",
              " 'h4_crop2other': [['Coriander'], ['Korra'], ['Daniyalu']],\n",
              " 'h4_crop2othercereal': [['Mokaajona']]}"
            ]
          },
          "execution_count": 7,
          "metadata": {},
          "output_type": "execute_result"
        }
      ],
      "source": [
        "list_of_column_names = df['column_name'].unique().tolist()\n",
        "\n",
        "unique_values_dict = {}\n",
        "for _, row in df.iterrows():\n",
        "    column_name, unique_value = row['column_name'], row['unique_value']\n",
        "    if column_name in unique_values_dict:\n",
        "        if unique_value not in unique_values_dict[column_name]:\n",
        "            unique_values_dict[column_name].append(unique_value)\n",
        "    else:\n",
        "        unique_values_dict[column_name] = [unique_value]\n",
        "from fuzzywuzzy import process\n",
        "\n",
        "def group_by_similarity(values, threshold=80):#Levensthein Distance similarity threshold = 80\n",
        "    groups = []\n",
        "    used = {}\n",
        "\n",
        "    for value in values:\n",
        "        if value in used and used[value] >= threshold:\n",
        "            continue\n",
        "\n",
        "        matches = process.extract(value, values, limit=None)\n",
        "        similar = [match[0] for match in matches if match[1] >= threshold]\n",
        "\n",
        "        # Update the dictionary with the similarity scores\n",
        "        for s in similar:\n",
        "            if s in used:\n",
        "                used[s] = max(used[s], matches[0][1])\n",
        "            else:\n",
        "                used[s] = matches[0][1]\n",
        "\n",
        "        # Add the group of similar values to the final list\n",
        "        groups.append(similar)\n",
        "\n",
        "    return groups\n",
        "for column in unique_values_dict:\n",
        "    unique_values_dict[column] = [str(value) for value in unique_values_dict[column] if pd.notnull(value)]\n",
        "\n",
        "linguistically_similar_groups = {column: group_by_similarity(values) for column, values in unique_values_dict.items()}\n",
        "linguistically_similar_groups\n"
      ]
    },
    {
      "cell_type": "markdown",
      "metadata": {},
      "source": [
        "<h1> Approach 2: Using NLTK </h2>"
      ]
    },
    {
      "cell_type": "code",
      "execution_count": 8,
      "metadata": {
        "colab": {
          "base_uri": "https://localhost:8080/"
        },
        "id": "zdyZFyZsPfHU",
        "outputId": "ebca24c7-49ec-43b8-94d0-5aa22fd28c0f"
      },
      "outputs": [
        {
          "name": "stdout",
          "output_type": "stream",
          "text": [
            "Requirement already satisfied: nltk in /Users/miaanand/anaconda3/lib/python3.11/site-packages (3.8.1)\n",
            "Requirement already satisfied: click in /Users/miaanand/anaconda3/lib/python3.11/site-packages (from nltk) (8.0.4)\n",
            "Requirement already satisfied: joblib in /Users/miaanand/anaconda3/lib/python3.11/site-packages (from nltk) (1.2.0)\n",
            "Requirement already satisfied: regex>=2021.8.3 in /Users/miaanand/anaconda3/lib/python3.11/site-packages (from nltk) (2022.7.9)\n",
            "Requirement already satisfied: tqdm in /Users/miaanand/anaconda3/lib/python3.11/site-packages (from nltk) (4.65.0)\n"
          ]
        }
      ],
      "source": [
        "!pip install nltk"
      ]
    },
    {
      "cell_type": "code",
      "execution_count": 9,
      "metadata": {
        "colab": {
          "base_uri": "https://localhost:8080/"
        },
        "id": "CJC0WoAyPnnF",
        "outputId": "c20267cb-8aba-482e-8bcf-dd0fa5391dda"
      },
      "outputs": [
        {
          "name": "stdout",
          "output_type": "stream",
          "text": [
            "<frozen runpy>:128: RuntimeWarning: 'nltk.downloader' found in sys.modules after import of package 'nltk', but prior to execution of 'nltk.downloader'; this may result in unpredictable behaviour\n",
            "[nltk_data] Downloading collection 'popular'\n",
            "[nltk_data]    | \n",
            "[nltk_data]    | Downloading package cmudict to\n",
            "[nltk_data]    |     /Users/miaanand/nltk_data...\n",
            "[nltk_data]    |   Unzipping corpora/cmudict.zip.\n",
            "[nltk_data]    | Downloading package gazetteers to\n",
            "[nltk_data]    |     /Users/miaanand/nltk_data...\n",
            "[nltk_data]    |   Unzipping corpora/gazetteers.zip.\n",
            "[nltk_data]    | Downloading package genesis to\n",
            "[nltk_data]    |     /Users/miaanand/nltk_data...\n",
            "[nltk_data]    |   Unzipping corpora/genesis.zip.\n",
            "[nltk_data]    | Downloading package gutenberg to\n",
            "[nltk_data]    |     /Users/miaanand/nltk_data...\n",
            "[nltk_data]    |   Unzipping corpora/gutenberg.zip.\n",
            "[nltk_data]    | Downloading package inaugural to\n",
            "[nltk_data]    |     /Users/miaanand/nltk_data...\n",
            "[nltk_data]    |   Unzipping corpora/inaugural.zip.\n",
            "[nltk_data]    | Downloading package movie_reviews to\n",
            "[nltk_data]    |     /Users/miaanand/nltk_data...\n",
            "[nltk_data]    |   Unzipping corpora/movie_reviews.zip.\n",
            "[nltk_data]    | Downloading package names to\n",
            "[nltk_data]    |     /Users/miaanand/nltk_data...\n",
            "[nltk_data]    |   Unzipping corpora/names.zip.\n",
            "[nltk_data]    | Downloading package shakespeare to\n",
            "[nltk_data]    |     /Users/miaanand/nltk_data...\n",
            "[nltk_data]    |   Unzipping corpora/shakespeare.zip.\n",
            "[nltk_data]    | Downloading package stopwords to\n",
            "[nltk_data]    |     /Users/miaanand/nltk_data...\n",
            "[nltk_data]    |   Unzipping corpora/stopwords.zip.\n",
            "[nltk_data]    | Downloading package treebank to\n",
            "[nltk_data]    |     /Users/miaanand/nltk_data...\n",
            "[nltk_data]    |   Unzipping corpora/treebank.zip.\n",
            "[nltk_data]    | Downloading package twitter_samples to\n",
            "[nltk_data]    |     /Users/miaanand/nltk_data...\n",
            "[nltk_data]    |   Unzipping corpora/twitter_samples.zip.\n",
            "[nltk_data]    | Downloading package omw to\n",
            "[nltk_data]    |     /Users/miaanand/nltk_data...\n",
            "[nltk_data]    | Downloading package omw-1.4 to\n",
            "[nltk_data]    |     /Users/miaanand/nltk_data...\n",
            "[nltk_data]    | Downloading package wordnet to\n",
            "[nltk_data]    |     /Users/miaanand/nltk_data...\n",
            "[nltk_data]    | Downloading package wordnet2021 to\n",
            "[nltk_data]    |     /Users/miaanand/nltk_data...\n",
            "[nltk_data]    | Downloading package wordnet31 to\n",
            "[nltk_data]    |     /Users/miaanand/nltk_data...\n",
            "[nltk_data]    | Downloading package wordnet_ic to\n",
            "[nltk_data]    |     /Users/miaanand/nltk_data...\n",
            "[nltk_data]    |   Unzipping corpora/wordnet_ic.zip.\n",
            "[nltk_data]    | Downloading package words to\n",
            "[nltk_data]    |     /Users/miaanand/nltk_data...\n",
            "[nltk_data]    |   Unzipping corpora/words.zip.\n",
            "[nltk_data]    | Downloading package maxent_ne_chunker to\n",
            "[nltk_data]    |     /Users/miaanand/nltk_data...\n",
            "[nltk_data]    |   Unzipping chunkers/maxent_ne_chunker.zip.\n",
            "[nltk_data]    | Downloading package punkt to\n",
            "[nltk_data]    |     /Users/miaanand/nltk_data...\n",
            "[nltk_data]    |   Unzipping tokenizers/punkt.zip.\n",
            "[nltk_data]    | Downloading package snowball_data to\n",
            "[nltk_data]    |     /Users/miaanand/nltk_data...\n",
            "[nltk_data]    | Downloading package averaged_perceptron_tagger to\n",
            "[nltk_data]    |     /Users/miaanand/nltk_data...\n",
            "[nltk_data]    |   Unzipping taggers/averaged_perceptron_tagger.zip.\n",
            "[nltk_data]    | \n",
            "[nltk_data]  Done downloading collection popular\n"
          ]
        }
      ],
      "source": [
        "!python -m nltk.downloader popular"
      ]
    },
    {
      "cell_type": "code",
      "execution_count": 13,
      "metadata": {
        "colab": {
          "base_uri": "https://localhost:8080/"
        },
        "id": "bHrWrTt4OMdf",
        "outputId": "a207be95-4b3d-4ffc-c8fc-e82d7c4c692a"
      },
      "outputs": [
        {
          "name": "stderr",
          "output_type": "stream",
          "text": [
            "[nltk_data] Downloading package wordnet to /root/nltk_data...\n",
            "[nltk_data]   Package wordnet is already up-to-date!\n",
            "[nltk_data] Downloading package omw-1.4 to /root/nltk_data...\n",
            "[nltk_data]   Package omw-1.4 is already up-to-date!\n"
          ]
        },
        {
          "data": {
            "text/plain": [
              "[('Tailoring', 1.0), ('Tailor', 1.0)]"
            ]
          },
          "execution_count": 13,
          "metadata": {},
          "output_type": "execute_result"
        }
      ],
      "source": [
        "import nltk\n",
        "from nltk.corpus import wordnet as wn\n",
        "nltk.download('wordnet')\n",
        "nltk.download('omw-1.4')\n",
        "\n",
        "example_column = 'h1_income_other_specify'\n",
        "example_values = unique_values_dict[example_column]\n",
        "\n",
        "def get_primary_noun(phrase):\n",
        "    words = nltk.word_tokenize(phrase)\n",
        "    return words[-1] if words else None\n",
        "\n",
        "primary_nouns = [get_primary_noun(value) for value in example_values]\n",
        "\n",
        "def find_similar_words(word, words):\n",
        "    word_synsets = wn.synsets(word)\n",
        "    if not word_synsets:  # If no synsets are found for the word, return empty list\n",
        "        return []\n",
        "\n",
        "    similar_words = []\n",
        "    for target_word in words:\n",
        "        target_synsets = wn.synsets(target_word)\n",
        "        if not target_synsets:\n",
        "            continue\n",
        "\n",
        "        max_similarity = max((wn.path_similarity(ws, tws) or 0) for ws in word_synsets for tws in target_synsets)\n",
        "        if max_similarity > 0.2:  # Threshold is subjective, can be adjusted\n",
        "            similar_words.append((target_word, max_similarity))\n",
        "\n",
        "    similar_words.sort(key=lambda x: x[1], reverse=True)\n",
        "    return similar_words\n",
        "\n",
        "example_word = primary_nouns[0]  \n",
        "similar_words_example = find_similar_words(example_word, primary_nouns)\n",
        "\n",
        "similar_words_example\n"
      ]
    },
    {
      "cell_type": "code",
      "execution_count": 16,
      "metadata": {
        "colab": {
          "base_uri": "https://localhost:8080/"
        },
        "id": "R4-FBFW1P2mN",
        "outputId": "64c2569f-2875-48cd-ad6d-1ad428753b9e"
      },
      "outputs": [
        {
          "data": {
            "text/plain": [
              "{'h1_income_other_specify': [['Tailoring', 'Tailoring', 'Tailor'],\n",
              "  ['Driver', 'Driver', 'Driver', 'driver', 'worker', 'Iron'],\n",
              "  ['Ammavadi'],\n",
              "  ['Travels', 'Travels'],\n",
              "  [')'],\n",
              "  ['Dairy', 'Dairy'],\n",
              "  ['bullero'],\n",
              "  ['Tractor', 'Tractor', 'Auto'],\n",
              "  ['Lari', 'Lari'],\n",
              "  ['tar', 'tar'],\n",
              "  ['Docter'],\n",
              "  ['Tracter'],\n",
              "  ['NREGS'],\n",
              "  ['pattadam'],\n",
              "  ['24000']],\n",
              " 'h1_exp_other_specify': [['Beedi']],\n",
              " 'h3_crop1other': [['Yaragadd'],\n",
              "  ['Dhaniyalu'],\n",
              "  ['Nimma'],\n",
              "  [')'],\n",
              "  ['Brinjal', 'Brinjal', 'Coriander'],\n",
              "  ['gram', 'gram'],\n",
              "  ['Daniyalu']],\n",
              " 'h3_crop1otherpaddy': [['Sona'], ['JJL']],\n",
              " 'h3_crop1othercereal': [['Horsegram'], ['Nuvulu']],\n",
              " 'h3_crop1otherpulse': [['Senagalu'],\n",
              "  ['Corn', 'Corn'],\n",
              "  ['Senaga'],\n",
              "  ['Hursgram']],\n",
              " 'h3_crop1otherfruit': [['Sannimma'],\n",
              "  ['1', '1'],\n",
              "  ['Nimma'],\n",
              "  ['Lemon', 'Lemon', 'lemon']],\n",
              " 'h3_crop1othervegetable': [['Carrot', 'Carrot', 'Brinjal']],\n",
              " 'h3_crop1otheroilseed': [['oil', 'oil'], ['Amudham']],\n",
              " 'h3_crop1_lossother': [['tegulu'], ['thegulu'], ['poindi']],\n",
              " 'h3_crop1soldunit_oth': [['28', '28', 'oil'], ['Tons', 'Tons']],\n",
              " 'h3_crop2other': [['Jowar'], ['jonna'], ['Daniyalu']],\n",
              " 'h3_crop2otherpaddy': [['Sona']],\n",
              " 'h3_crop2othercereal': [['Godhuma'], ['Mokaajonna'], ['Horsegram']],\n",
              " 'h3_crop2otherpulse': [['Vuddhulu'], ['Senaga']],\n",
              " 'h3_crop2otherfruit': [['Nimma']],\n",
              " 'h3_crop2othervegetable': [['Beetroot', 'Beetroot']],\n",
              " 'h3_crop2_lossother': [['No', 'No']],\n",
              " 'h3_crop3other': [['jonna'], ['Daniyalu']],\n",
              " 'h3_crop3othercereal': [['Horsegram']],\n",
              " 'h3_crop3othervegetable': [['Carrot', 'Carrot'], [')']],\n",
              " 'h3_crop4other': [['Daniyalu']],\n",
              " 'h3_crop4othervegetable': [['Betroot']],\n",
              " 'h3_kgcrop1othercereal': [['jonna']],\n",
              " 'h3_kgcrop1othervegetable': [['Brinjal', 'Brinjal']],\n",
              " 'h3_kgcrop1otheroilseed': [['Avisha']],\n",
              " 'h2_income_other_specify': [['Angadi'],\n",
              "  ['Dairy', 'Dairy'],\n",
              "  ['Tractor', 'Tractor', 'Auto'],\n",
              "  ['Laridriver'],\n",
              "  ['Doctor', 'Doctor'],\n",
              "  ['Paladairy'],\n",
              "  ['Bollero'],\n",
              "  ['Tailor', 'Tailor'],\n",
              "  ['Dhobi']],\n",
              " 'h4_crop1other': [['Kora'],\n",
              "  ['Vudhulu'],\n",
              "  ['Dosa'],\n",
              "  ['Carrot', 'Carrot', 'leaves'],\n",
              "  ['Nimma'],\n",
              "  ['Korra'],\n",
              "  ['Maize', 'Maize'],\n",
              "  ['Mokkajonna'],\n",
              "  ['chetlu'],\n",
              "  ['Sabja'],\n",
              "  ['Jonna'],\n",
              "  ['Daniyalu']],\n",
              " 'h4_crop1othercereal': [['Mokkajona'],\n",
              "  ['Mokaajonna'],\n",
              "  ['Maize', 'Maize'],\n",
              "  ['Mokkajonna'],\n",
              "  ['Mokajonna'],\n",
              "  ['Mokaajona']],\n",
              " 'h4_crop1othercotton': [['cotton', 'cotton'], ['Sreeram']],\n",
              " 'h4_crop1otherfruit': [['Lemon', 'Lemon']],\n",
              " 'h4_crop1otheroilseed': [['Amudham']],\n",
              " 'h4_crop1otherpulse': [['Vudhulu']],\n",
              " 'h4_crop1othervegetable': [['Carrot', 'Carrot'],\n",
              "  ['Correct', 'Correct'],\n",
              "  ['Kakara']],\n",
              " 'h4_crop2other': [['Coriander', 'Coriander'], ['Korra'], ['Daniyalu']],\n",
              " 'h4_crop2othercereal': [['Mokaajona']]}"
            ]
          },
          "execution_count": 16,
          "metadata": {},
          "output_type": "execute_result"
        }
      ],
      "source": [
        "# Function to group words by semantic similarity using NLTK's WordNet\n",
        "def group_by_semantic_similarity(words):\n",
        "    grouped_words = []\n",
        "    used_words = set()\n",
        "\n",
        "    for word in words:\n",
        "        if word in used_words:\n",
        "            continue\n",
        "\n",
        "        # Find similar words for the current word\n",
        "        similar_words = find_similar_words(word, [w for w in words if w not in used_words])\n",
        "\n",
        "        # If similar words are found, mark them as used and add to the groups\n",
        "        if similar_words:\n",
        "            similar_words_list = [word] + [w[0] for w in similar_words]\n",
        "            grouped_words.append(similar_words_list)\n",
        "            used_words.update(similar_words_list)\n",
        "        else:\n",
        "            grouped_words.append([word])\n",
        "            used_words.add(word)\n",
        "\n",
        "    return grouped_words\n",
        "\n",
        "# Apply grouping to all columns\n",
        "semantic_groups_dict = {}\n",
        "for column, values in unique_values_dict.items():\n",
        "    primary_nouns_column = [get_primary_noun(value) for value in values if get_primary_noun(value)]\n",
        "    semantic_groups_dict[column] = group_by_semantic_similarity(primary_nouns_column)\n",
        "\n",
        "semantic_groups_dict\n"
      ]
    },
    {
      "cell_type": "markdown",
      "metadata": {
        "id": "pocj0DNQSBtf"
      },
      "source": [
        "<h1> Approach 3: Using Word2Vec Embeddings </h1>"
      ]
    },
    {
      "cell_type": "code",
      "execution_count": 13,
      "metadata": {
        "colab": {
          "base_uri": "https://localhost:8080/"
        },
        "id": "q6K22uqNQN4v",
        "outputId": "98a63cc4-ecda-41e9-ad13-73bd033c0e66"
      },
      "outputs": [
        {
          "name": "stdout",
          "output_type": "stream",
          "text": [
            "huggingface/tokenizers: The current process just got forked, after parallelism has already been used. Disabling parallelism to avoid deadlocks...\n",
            "To disable this warning, you can either:\n",
            "\t- Avoid using `tokenizers` before the fork if possible\n",
            "\t- Explicitly set the environment variable TOKENIZERS_PARALLELISM=(true | false)\n",
            "Requirement already satisfied: transformers in /Users/miaanand/anaconda3/lib/python3.11/site-packages (4.32.1)\n",
            "Requirement already satisfied: filelock in /Users/miaanand/anaconda3/lib/python3.11/site-packages (from transformers) (3.9.0)\n",
            "Requirement already satisfied: huggingface-hub<1.0,>=0.15.1 in /Users/miaanand/anaconda3/lib/python3.11/site-packages (from transformers) (0.15.1)\n",
            "Requirement already satisfied: numpy>=1.17 in /Users/miaanand/anaconda3/lib/python3.11/site-packages (from transformers) (1.24.3)\n",
            "Requirement already satisfied: packaging>=20.0 in /Users/miaanand/anaconda3/lib/python3.11/site-packages (from transformers) (23.1)\n",
            "Requirement already satisfied: pyyaml>=5.1 in /Users/miaanand/anaconda3/lib/python3.11/site-packages (from transformers) (6.0)\n",
            "Requirement already satisfied: regex!=2019.12.17 in /Users/miaanand/anaconda3/lib/python3.11/site-packages (from transformers) (2022.7.9)\n",
            "Requirement already satisfied: requests in /Users/miaanand/anaconda3/lib/python3.11/site-packages (from transformers) (2.31.0)\n",
            "Requirement already satisfied: tokenizers!=0.11.3,<0.14,>=0.11.1 in /Users/miaanand/anaconda3/lib/python3.11/site-packages (from transformers) (0.13.2)\n",
            "Requirement already satisfied: safetensors>=0.3.1 in /Users/miaanand/anaconda3/lib/python3.11/site-packages (from transformers) (0.3.2)\n",
            "Requirement already satisfied: tqdm>=4.27 in /Users/miaanand/anaconda3/lib/python3.11/site-packages (from transformers) (4.65.0)\n",
            "Requirement already satisfied: fsspec in /Users/miaanand/anaconda3/lib/python3.11/site-packages (from huggingface-hub<1.0,>=0.15.1->transformers) (2023.4.0)\n",
            "Requirement already satisfied: typing-extensions>=3.7.4.3 in /Users/miaanand/anaconda3/lib/python3.11/site-packages (from huggingface-hub<1.0,>=0.15.1->transformers) (4.7.1)\n",
            "Requirement already satisfied: charset-normalizer<4,>=2 in /Users/miaanand/anaconda3/lib/python3.11/site-packages (from requests->transformers) (2.0.4)\n",
            "Requirement already satisfied: idna<4,>=2.5 in /Users/miaanand/anaconda3/lib/python3.11/site-packages (from requests->transformers) (3.4)\n",
            "Requirement already satisfied: urllib3<3,>=1.21.1 in /Users/miaanand/anaconda3/lib/python3.11/site-packages (from requests->transformers) (1.26.16)\n",
            "Requirement already satisfied: certifi>=2017.4.17 in /Users/miaanand/anaconda3/lib/python3.11/site-packages (from requests->transformers) (2023.11.17)\n",
            "huggingface/tokenizers: The current process just got forked, after parallelism has already been used. Disabling parallelism to avoid deadlocks...\n",
            "To disable this warning, you can either:\n",
            "\t- Avoid using `tokenizers` before the fork if possible\n",
            "\t- Explicitly set the environment variable TOKENIZERS_PARALLELISM=(true | false)\n",
            "Requirement already satisfied: gensim in /Users/miaanand/anaconda3/lib/python3.11/site-packages (4.3.0)\n",
            "Requirement already satisfied: numpy>=1.18.5 in /Users/miaanand/anaconda3/lib/python3.11/site-packages (from gensim) (1.24.3)\n",
            "Requirement already satisfied: scipy>=1.7.0 in /Users/miaanand/anaconda3/lib/python3.11/site-packages (from gensim) (1.11.1)\n",
            "Requirement already satisfied: smart-open>=1.8.1 in /Users/miaanand/anaconda3/lib/python3.11/site-packages (from gensim) (5.2.1)\n",
            "Collecting FuzzyTM>=0.4.0 (from gensim)\n",
            "  Obtaining dependency information for FuzzyTM>=0.4.0 from https://files.pythonhosted.org/packages/06/4d/8d2dd5d81afdea2aa790860d5c7e12f80154923ba827e3fa36759f0bf2cd/FuzzyTM-2.0.5-py3-none-any.whl.metadata\n",
            "  Downloading FuzzyTM-2.0.5-py3-none-any.whl.metadata (7.8 kB)\n",
            "Requirement already satisfied: pandas in /Users/miaanand/anaconda3/lib/python3.11/site-packages (from FuzzyTM>=0.4.0->gensim) (1.5.3)\n",
            "Collecting pyfume (from FuzzyTM>=0.4.0->gensim)\n",
            "  Obtaining dependency information for pyfume from https://files.pythonhosted.org/packages/f0/fe/b899a3d9a18c9a44a35155c79a4c152cb85990ea38ce6ab7ed73e5caa1b9/pyFUME-0.3.1-py3-none-any.whl.metadata\n",
            "  Downloading pyFUME-0.3.1-py3-none-any.whl.metadata (9.7 kB)\n",
            "Requirement already satisfied: python-dateutil>=2.8.1 in /Users/miaanand/anaconda3/lib/python3.11/site-packages (from pandas->FuzzyTM>=0.4.0->gensim) (2.8.2)\n",
            "Requirement already satisfied: pytz>=2020.1 in /Users/miaanand/anaconda3/lib/python3.11/site-packages (from pandas->FuzzyTM>=0.4.0->gensim) (2023.3.post1)\n",
            "Collecting simpful (from pyfume->FuzzyTM>=0.4.0->gensim)\n",
            "  Obtaining dependency information for simpful from https://files.pythonhosted.org/packages/9d/0e/aebc2fb0b0f481994179b2ee2b8e6bbf0894d971594688c018375e7076ea/simpful-2.12.0-py3-none-any.whl.metadata\n",
            "  Downloading simpful-2.12.0-py3-none-any.whl.metadata (4.8 kB)\n",
            "Collecting fst-pso (from pyfume->FuzzyTM>=0.4.0->gensim)\n",
            "  Downloading fst-pso-1.8.1.tar.gz (18 kB)\n",
            "  Preparing metadata (setup.py) ... \u001b[?25ldone\n",
            "\u001b[?25hRequirement already satisfied: typing-extensions in /Users/miaanand/anaconda3/lib/python3.11/site-packages (from pyfume->FuzzyTM>=0.4.0->gensim) (4.7.1)\n",
            "Requirement already satisfied: six>=1.5 in /Users/miaanand/anaconda3/lib/python3.11/site-packages (from python-dateutil>=2.8.1->pandas->FuzzyTM>=0.4.0->gensim) (1.16.0)\n",
            "Collecting miniful (from fst-pso->pyfume->FuzzyTM>=0.4.0->gensim)\n",
            "  Downloading miniful-0.0.6.tar.gz (2.8 kB)\n",
            "  Preparing metadata (setup.py) ... \u001b[?25ldone\n",
            "\u001b[?25hDownloading FuzzyTM-2.0.5-py3-none-any.whl (29 kB)\n",
            "Downloading pyFUME-0.3.1-py3-none-any.whl (59 kB)\n",
            "\u001b[2K   \u001b[90m━━━━━━━━━━━━━━━━━━━━━━━━━━━━━━━━━━━━━━━━\u001b[0m \u001b[32m59.6/59.6 kB\u001b[0m \u001b[31m1.8 MB/s\u001b[0m eta \u001b[36m0:00:00\u001b[0m-:--:--\u001b[0m\n",
            "\u001b[?25hDownloading simpful-2.12.0-py3-none-any.whl (24 kB)\n",
            "Building wheels for collected packages: fst-pso, miniful\n",
            "  Building wheel for fst-pso (setup.py) ... \u001b[?25ldone\n",
            "\u001b[?25h  Created wheel for fst-pso: filename=fst_pso-1.8.1-py3-none-any.whl size=20430 sha256=9b7b13d256dc8e0ca710120a7233e6a4dc134221c1aefe212728e766794e8e75\n",
            "  Stored in directory: /Users/miaanand/Library/Caches/pip/wheels/69/f5/e5/18ad53fe1ed6b2af9fad05ec052e4acbac8e92441df44bad2e\n",
            "  Building wheel for miniful (setup.py) ... \u001b[?25ldone\n",
            "\u001b[?25h  Created wheel for miniful: filename=miniful-0.0.6-py3-none-any.whl size=3513 sha256=b94b455a584b91880240d84f807fc28a46727e3c314cd8323b7acd37edd8a1e6\n",
            "  Stored in directory: /Users/miaanand/Library/Caches/pip/wheels/9d/ff/2f/afe4cd56f47de147407705626517d68bea0f3b74eb1fb168e6\n",
            "Successfully built fst-pso miniful\n",
            "Installing collected packages: simpful, miniful, fst-pso, pyfume, FuzzyTM\n",
            "Successfully installed FuzzyTM-2.0.5 fst-pso-1.8.1 miniful-0.0.6 pyfume-0.3.1 simpful-2.12.0\n"
          ]
        }
      ],
      "source": [
        "!pip install transformers\n",
        "!pip install gensim"
      ]
    },
    {
      "cell_type": "code",
      "execution_count": 15,
      "metadata": {
        "id": "RU6IcmP5T-ZW"
      },
      "outputs": [
        {
          "name": "stdout",
          "output_type": "stream",
          "text": [
            "[==================================================] 100.0% 1662.8/1662.8MB downloaded\n"
          ]
        }
      ],
      "source": [
        "import gensim.downloader as api\n",
        "\n",
        "# Load pre-trained Word2Vec model\n",
        "word2vec_model = api.load(\"word2vec-google-news-300\")\n"
      ]
    },
    {
      "cell_type": "code",
      "execution_count": 17,
      "metadata": {},
      "outputs": [
        {
          "name": "stdout",
          "output_type": "stream",
          "text": [
            "huggingface/tokenizers: The current process just got forked, after parallelism has already been used. Disabling parallelism to avoid deadlocks...\n",
            "To disable this warning, you can either:\n",
            "\t- Avoid using `tokenizers` before the fork if possible\n",
            "\t- Explicitly set the environment variable TOKENIZERS_PARALLELISM=(true | false)\n",
            "Requirement already satisfied: scikit-learn in /Users/miaanand/anaconda3/lib/python3.11/site-packages (1.3.0)\n",
            "Requirement already satisfied: numpy>=1.17.3 in /Users/miaanand/anaconda3/lib/python3.11/site-packages (from scikit-learn) (1.24.3)\n",
            "Requirement already satisfied: scipy>=1.5.0 in /Users/miaanand/anaconda3/lib/python3.11/site-packages (from scikit-learn) (1.11.1)\n",
            "Requirement already satisfied: joblib>=1.1.1 in /Users/miaanand/anaconda3/lib/python3.11/site-packages (from scikit-learn) (1.2.0)\n",
            "Requirement already satisfied: threadpoolctl>=2.0.0 in /Users/miaanand/anaconda3/lib/python3.11/site-packages (from scikit-learn) (2.2.0)\n"
          ]
        }
      ],
      "source": [
        "!pip install scikit-learn"
      ]
    },
    {
      "cell_type": "code",
      "execution_count": 18,
      "metadata": {},
      "outputs": [],
      "source": [
        "from sklearn.cluster import KMeans\n",
        "import numpy as np\n",
        "import matplotlib.pyplot as plt\n",
        "from gensim.models import Word2Vec\n",
        "\n",
        "def get_average_word2vec(tokens_list, vector, generate_missing=False, k=300):\n",
        "    if len(tokens_list)<1:\n",
        "        return np.zeros(k)\n",
        "    if generate_missing:\n",
        "        vectorized = [vector[word] if word in vector else np.random.rand(k) for word in tokens_list]\n",
        "    else:\n",
        "        vectorized = [vector[word] if word in vector else np.zeros(k) for word in tokens_list]\n",
        "    length = len(vectorized)\n",
        "    summed = np.sum(vectorized, axis=0)\n",
        "    averaged = np.divide(summed, length)\n",
        "    return averaged\n",
        "\n",
        "def column_to_embeddings(df, column_name, model):\n",
        "    \"\"\"Converts a column of text data into a list of embeddings.\"\"\"\n",
        "    texts = df[column_name].dropna().unique()\n",
        "    embeddings = []\n",
        "    for text in texts:\n",
        "        words = gensim.utils.simple_preprocess(text)\n",
        "        embeddings.append(get_average_word2vec(words, model))\n",
        "    return texts, np.array(embeddings)\n",
        "\n",
        "def find_optimal_clusters(embeddings, max_clusters=10):\n",
        "    wcss = []\n",
        "    for i in range(1, max_clusters + 1):\n",
        "        kmeans = KMeans(n_clusters=i, init='k-means++', max_iter=300, n_init=10, random_state=42)\n",
        "        kmeans.fit(embeddings)\n",
        "        wcss.append(kmeans.inertia_)\n",
        "    plt.plot(range(1, max_clusters + 1), wcss)\n",
        "    plt.title('Elbow Method')\n",
        "    plt.xlabel('Number of Clusters')\n",
        "    plt.ylabel('WCSS')\n",
        "    plt.show()\n"
      ]
    },
    {
      "cell_type": "code",
      "execution_count": 20,
      "metadata": {},
      "outputs": [
        {
          "name": "stdout",
          "output_type": "stream",
          "text": [
            "huggingface/tokenizers: The current process just got forked, after parallelism has already been used. Disabling parallelism to avoid deadlocks...\n",
            "To disable this warning, you can either:\n",
            "\t- Avoid using `tokenizers` before the fork if possible\n",
            "\t- Explicitly set the environment variable TOKENIZERS_PARALLELISM=(true | false)\n",
            "Requirement already satisfied: gensim in /Users/miaanand/anaconda3/lib/python3.11/site-packages (4.3.0)\n",
            "Requirement already satisfied: numpy>=1.18.5 in /Users/miaanand/anaconda3/lib/python3.11/site-packages (from gensim) (1.24.3)\n",
            "Requirement already satisfied: scipy>=1.7.0 in /Users/miaanand/anaconda3/lib/python3.11/site-packages (from gensim) (1.11.1)\n",
            "Requirement already satisfied: smart-open>=1.8.1 in /Users/miaanand/anaconda3/lib/python3.11/site-packages (from gensim) (5.2.1)\n",
            "Requirement already satisfied: FuzzyTM>=0.4.0 in /Users/miaanand/anaconda3/lib/python3.11/site-packages (from gensim) (2.0.5)\n",
            "Requirement already satisfied: pandas in /Users/miaanand/anaconda3/lib/python3.11/site-packages (from FuzzyTM>=0.4.0->gensim) (1.5.3)\n",
            "Requirement already satisfied: pyfume in /Users/miaanand/anaconda3/lib/python3.11/site-packages (from FuzzyTM>=0.4.0->gensim) (0.3.1)\n",
            "Requirement already satisfied: python-dateutil>=2.8.1 in /Users/miaanand/anaconda3/lib/python3.11/site-packages (from pandas->FuzzyTM>=0.4.0->gensim) (2.8.2)\n",
            "Requirement already satisfied: pytz>=2020.1 in /Users/miaanand/anaconda3/lib/python3.11/site-packages (from pandas->FuzzyTM>=0.4.0->gensim) (2023.3.post1)\n",
            "Requirement already satisfied: simpful in /Users/miaanand/anaconda3/lib/python3.11/site-packages (from pyfume->FuzzyTM>=0.4.0->gensim) (2.12.0)\n",
            "Requirement already satisfied: fst-pso in /Users/miaanand/anaconda3/lib/python3.11/site-packages (from pyfume->FuzzyTM>=0.4.0->gensim) (1.8.1)\n",
            "Requirement already satisfied: typing-extensions in /Users/miaanand/anaconda3/lib/python3.11/site-packages (from pyfume->FuzzyTM>=0.4.0->gensim) (4.7.1)\n",
            "Requirement already satisfied: six>=1.5 in /Users/miaanand/anaconda3/lib/python3.11/site-packages (from python-dateutil>=2.8.1->pandas->FuzzyTM>=0.4.0->gensim) (1.16.0)\n",
            "Requirement already satisfied: miniful in /Users/miaanand/anaconda3/lib/python3.11/site-packages (from fst-pso->pyfume->FuzzyTM>=0.4.0->gensim) (0.0.6)\n"
          ]
        }
      ],
      "source": [
        "!pip install gensim"
      ]
    },
    {
      "cell_type": "code",
      "execution_count": 27,
      "metadata": {
        "id": "Kv4Uhp6mSX25"
      },
      "outputs": [
        {
          "name": "stdout",
          "output_type": "stream",
          "text": [
            "Processing column: column_name\n"
          ]
        },
        {
          "name": "stderr",
          "output_type": "stream",
          "text": [
            "/Users/miaanand/anaconda3/lib/python3.11/site-packages/sklearn/base.py:1151: ConvergenceWarning: Number of distinct clusters (2) found smaller than n_clusters (3). Possibly due to duplicate points in X.\n",
            "  return fit_method(estimator, *args, **kwargs)\n",
            "/Users/miaanand/anaconda3/lib/python3.11/site-packages/sklearn/base.py:1151: ConvergenceWarning: Number of distinct clusters (2) found smaller than n_clusters (4). Possibly due to duplicate points in X.\n",
            "  return fit_method(estimator, *args, **kwargs)\n",
            "/Users/miaanand/anaconda3/lib/python3.11/site-packages/sklearn/base.py:1151: ConvergenceWarning: Number of distinct clusters (2) found smaller than n_clusters (5). Possibly due to duplicate points in X.\n",
            "  return fit_method(estimator, *args, **kwargs)\n",
            "/Users/miaanand/anaconda3/lib/python3.11/site-packages/sklearn/base.py:1151: ConvergenceWarning: Number of distinct clusters (2) found smaller than n_clusters (6). Possibly due to duplicate points in X.\n",
            "  return fit_method(estimator, *args, **kwargs)\n",
            "/Users/miaanand/anaconda3/lib/python3.11/site-packages/sklearn/base.py:1151: ConvergenceWarning: Number of distinct clusters (2) found smaller than n_clusters (7). Possibly due to duplicate points in X.\n",
            "  return fit_method(estimator, *args, **kwargs)\n",
            "/Users/miaanand/anaconda3/lib/python3.11/site-packages/sklearn/base.py:1151: ConvergenceWarning: Number of distinct clusters (2) found smaller than n_clusters (8). Possibly due to duplicate points in X.\n",
            "  return fit_method(estimator, *args, **kwargs)\n",
            "/Users/miaanand/anaconda3/lib/python3.11/site-packages/sklearn/base.py:1151: ConvergenceWarning: Number of distinct clusters (2) found smaller than n_clusters (9). Possibly due to duplicate points in X.\n",
            "  return fit_method(estimator, *args, **kwargs)\n",
            "/Users/miaanand/anaconda3/lib/python3.11/site-packages/sklearn/base.py:1151: ConvergenceWarning: Number of distinct clusters (2) found smaller than n_clusters (10). Possibly due to duplicate points in X.\n",
            "  return fit_method(estimator, *args, **kwargs)\n"
          ]
        },
        {
          "data": {
            "image/png": "[encoded data removed]",
            "text/plain": [
              "<Figure size 640x480 with 1 Axes>"
            ]
          },
          "metadata": {},
          "output_type": "display_data"
        },
        {
          "name": "stderr",
          "output_type": "stream",
          "text": [
            "/Users/miaanand/anaconda3/lib/python3.11/site-packages/sklearn/cluster/_kmeans.py:1412: FutureWarning: The default value of `n_init` will change from 10 to 'auto' in 1.4. Set the value of `n_init` explicitly to suppress the warning\n",
            "  super()._check_params_vs_input(X, default_n_init=10)\n"
          ]
        },
        {
          "name": "stdout",
          "output_type": "stream",
          "text": [
            "Clustered texts for column 'column_name': {0: ['h1_income_other_specify', 'h1_exp_other_specify', 'h3_crop1otherpaddy', 'h3_crop1othercereal', 'h3_crop1otherpulse', 'h3_crop1otherfruit', 'h3_crop1othervegetable', 'h3_crop1otheroilseed', 'h3_crop1_lossother', 'h3_crop1soldunit_oth', 'h3_crop2otherpaddy', 'h3_crop2othercereal', 'h3_crop2otherpulse', 'h3_crop2otherfruit', 'h3_crop2othervegetable', 'h3_crop2_lossother', 'h3_crop3othercereal', 'h3_crop3othervegetable', 'h3_crop4othervegetable', 'h3_kgcrop1othercereal', 'h3_kgcrop1othervegetable', 'h3_kgcrop1otheroilseed', 'h2_income_other_specify', 'h4_crop1othercereal', 'h4_crop1othercotton', 'h4_crop1otherfruit', 'h4_crop1otheroilseed', 'h4_crop1otherpulse', 'h4_crop1othervegetable', 'h4_crop2othercereal'], 1: ['h3_crop1other', 'h3_crop2other', 'h3_crop3other', 'h3_crop4other', 'h4_crop1other', 'h4_crop2other']}\n",
            "Processing column: unique_value\n"
          ]
        },
        {
          "data": {
            "image/png": "[encoded data removed]",
            "text/plain": [
              "<Figure size 640x480 with 1 Axes>"
            ]
          },
          "metadata": {},
          "output_type": "display_data"
        },
        {
          "name": "stderr",
          "output_type": "stream",
          "text": [
            "/Users/miaanand/anaconda3/lib/python3.11/site-packages/sklearn/cluster/_kmeans.py:1412: FutureWarning: The default value of `n_init` will change from 10 to 'auto' in 1.4. Set the value of `n_init` explicitly to suppress the warning\n",
            "  super()._check_params_vs_input(X, default_n_init=10)\n"
          ]
        },
        {
          "name": "stdout",
          "output_type": "stream",
          "text": [
            "Clustered texts for column 'unique_value': {0: ['Tailoring', 'Driver', 'Ammavadi', 'Lari Driver', 'Travels', 'Contract worker', 'Bullero (auto)', 'Chakali ( battalu wash)', 'Lari', 'Tailor', 'Auto', 'Track tar', 'Lari driver', 'RMP Docter', 'Tracter', 'NREGS', 'Chepalu pattadam', '24000', 'Yaragadd', 'Dhaniyalu', 'Nimma', 'Pasuvula gaddi(sappa)', 'Daniyalu', 'JJL', 'Horsegram', 'Nuvulu', 'Senagalu', 'Senaga', 'Hursgram', 'Sannimma', 'Pamaroja oil', 'Amudham', 'Aakumachha tegulu', 'Verukullu thegulu', 'Pogamanchu valana putha rarli poindi', 'Kayakulllu thegulu', 'Mojaek thegulu', '28', 'Tons', 'Mokka jonna', 'Godhuma', 'Mokaajonna', 'Vuddhulu', 'No', 'Leady finger (benda)', 'Betroot', 'Avisha', 'Angadi', 'Laridriver', 'RMP Doctor', 'Paladairy', 'Bollero', 'Tractor&Bollero', 'Vudhulu', 'Korra', 'Mokkajonna', 'Vakka chetlu', 'Sabja', 'Jonna', 'Mokkajona', 'Mokajonna', 'Mokaajona', 'Sreeram', 'Correct', 'Kakara'], 1: ['Dairy', 'Millets&bullero', 'Tractor', 'Cloths Iron', 'Beedi', 'Brinjal', 'Bengal gram', 'Coriander', 'Sona', 'Corn', 'Sweet lemon 1', 'Lemon', 'Sweet lemon', 'Carrot', 'Groundnut oil', 'Jowar', 'Beetroot', 'Tractor& milk Dairy', 'Dhobi', 'Kora', 'Dosa', 'Coriander leaves', 'Maize', 'Bt cotton']}\n",
            "Processing column: replacement_value\n"
          ]
        },
        {
          "data": {
            "image/png": "[encoded data removed]",
            "text/plain": [
              "<Figure size 640x480 with 1 Axes>"
            ]
          },
          "metadata": {},
          "output_type": "display_data"
        },
        {
          "name": "stdout",
          "output_type": "stream",
          "text": [
            "Clustered texts for column 'replacement_value': {0: ['Tailor', 'Bolero Driver', 'Laundry Work', 'Laundry Work\\n', 'Fishing', 'Senagalu', 'Pickles Business'], 1: ['Lorry Driver', 'Tractor', 'Tractor, Dairy', 'Dairy']}\n",
            "Processing column: delete_value\n"
          ]
        },
        {
          "name": "stderr",
          "output_type": "stream",
          "text": [
            "/Users/miaanand/anaconda3/lib/python3.11/site-packages/sklearn/cluster/_kmeans.py:1412: FutureWarning: The default value of `n_init` will change from 10 to 'auto' in 1.4. Set the value of `n_init` explicitly to suppress the warning\n",
            "  super()._check_params_vs_input(X, default_n_init=10)\n",
            "/Users/miaanand/anaconda3/lib/python3.11/site-packages/sklearn/base.py:1151: ConvergenceWarning: Number of distinct clusters (1) found smaller than n_clusters (2). Possibly due to duplicate points in X.\n",
            "  return fit_method(estimator, *args, **kwargs)\n"
          ]
        },
        {
          "data": {
            "image/png": "[encoded data removed]",
            "text/plain": [
              "<Figure size 640x480 with 1 Axes>"
            ]
          },
          "metadata": {},
          "output_type": "display_data"
        },
        {
          "name": "stderr",
          "output_type": "stream",
          "text": [
            "/Users/miaanand/anaconda3/lib/python3.11/site-packages/sklearn/cluster/_kmeans.py:1412: FutureWarning: The default value of `n_init` will change from 10 to 'auto' in 1.4. Set the value of `n_init` explicitly to suppress the warning\n",
            "  super()._check_params_vs_input(X, default_n_init=10)\n",
            "/Users/miaanand/anaconda3/lib/python3.11/site-packages/sklearn/base.py:1151: ConvergenceWarning: Number of distinct clusters (8) found smaller than n_clusters (9). Possibly due to duplicate points in X.\n",
            "  return fit_method(estimator, *args, **kwargs)\n",
            "/Users/miaanand/anaconda3/lib/python3.11/site-packages/sklearn/base.py:1151: ConvergenceWarning: Number of distinct clusters (8) found smaller than n_clusters (10). Possibly due to duplicate points in X.\n",
            "  return fit_method(estimator, *args, **kwargs)\n"
          ]
        },
        {
          "name": "stdout",
          "output_type": "stream",
          "text": [
            "Clustered texts for column 'delete_value': {0: [False, True]}\n",
            "Processing column: suggested_value\n",
            "Not enough data to cluster in column 'suggested_value'.\n",
            "Processing column: new_column_name\n"
          ]
        },
        {
          "data": {
            "image/png": "[encoded data removed]",
            "text/plain": [
              "<Figure size 640x480 with 1 Axes>"
            ]
          },
          "metadata": {},
          "output_type": "display_data"
        },
        {
          "name": "stderr",
          "output_type": "stream",
          "text": [
            "/Users/miaanand/anaconda3/lib/python3.11/site-packages/sklearn/cluster/_kmeans.py:1412: FutureWarning: The default value of `n_init` will change from 10 to 'auto' in 1.4. Set the value of `n_init` explicitly to suppress the warning\n",
            "  super()._check_params_vs_input(X, default_n_init=10)\n"
          ]
        },
        {
          "name": "stdout",
          "output_type": "stream",
          "text": [
            "Clustered texts for column 'new_column_name': {0: ['h3_crop1cotton', 'h3_crop1paddy', 'h3_crop2cotton', 'h3_crop2paddy', 'h3_crop3cotton', 'h3_crop4cotton', 'h4_crop1cotton', 'h4_crop2cotton'], 1: ['h3_crop1cereal', 'h3_crop2cereal', 'h3_crop3cereal', 'h3_kgcrop1cereal', 'h4_crop1cereal', 'h4_crop2cereal'], 2: ['h3_crop1vegetable', 'h3_crop1oilseed', 'h3_crop1fruit', 'h3_crop2vegetable', 'h3_crop3vegetable', 'h3_crop4vegetable', 'h3_kgcrop1vegetable', 'h4_crop1vegetable', 'h4_crop4oilseed'], 3: ['h1_income_other_specify_reclassification', 'h3_crop1pulse', 'h3_crop1_losswhy___1', 'h3_crop1_losswhy___7', 'h3_crop2pulse', 'h3_crop3pulse', 'h2_income_other_specify_reclassification']}\n",
            "Processing column: new_column_value\n"
          ]
        },
        {
          "data": {
            "image/png": "[encoded data removed]",
            "text/plain": [
              "<Figure size 640x480 with 1 Axes>"
            ]
          },
          "metadata": {},
          "output_type": "display_data"
        },
        {
          "name": "stderr",
          "output_type": "stream",
          "text": [
            "/Users/miaanand/anaconda3/lib/python3.11/site-packages/sklearn/cluster/_kmeans.py:1412: FutureWarning: The default value of `n_init` will change from 10 to 'auto' in 1.4. Set the value of `n_init` explicitly to suppress the warning\n",
            "  super()._check_params_vs_input(X, default_n_init=10)\n"
          ]
        },
        {
          "name": "stdout",
          "output_type": "stream",
          "text": [
            "Clustered texts for column 'new_column_value': {0: ['Onion', 'Lemon', 'Brinjal', 'Corn', 'Sweet lime', 'Carrot', 'Castor', 'Jowar', 'Wheat', 'Beetroot', 'Ladyfinger', 'Cotton'], 1: ['h1_income_business_amt', 'h1_income_wages_amt', 'h1_income_govt_amt', 'h1_income_business_amt\\n', 'h1_income_othagri_amt', 'Daniyalu', 'Bengalgram', 'BPT-5204', 'JJL', 'Horsegram', 'Sesamum', '1', 'Oodalu', 'h2_income_govt_amt', 'h2_income_business_amt', 'h2_income_wages_amt', 'Korra', 'Bottlegourd', 'other', 'Bitter gourd']}\n",
            "Processing column: new_column_name.1\n",
            "Not enough data to cluster in column 'new_column_name.1'.\n",
            "Processing column: new_column_value.1\n"
          ]
        },
        {
          "data": {
            "image/png": "[encoded data removed]",
            "text/plain": [
              "<Figure size 640x480 with 1 Axes>"
            ]
          },
          "metadata": {},
          "output_type": "display_data"
        },
        {
          "name": "stdout",
          "output_type": "stream",
          "text": [
            "Clustered texts for column 'new_column_value.1': {0: ['Betel leaf', 'Chia seed']}\n",
            "Processing column: delete_column_value\n",
            "Not enough data to cluster in column 'delete_column_value'.\n"
          ]
        },
        {
          "name": "stderr",
          "output_type": "stream",
          "text": [
            "/Users/miaanand/anaconda3/lib/python3.11/site-packages/sklearn/cluster/_kmeans.py:1412: FutureWarning: The default value of `n_init` will change from 10 to 'auto' in 1.4. Set the value of `n_init` explicitly to suppress the warning\n",
            "  super()._check_params_vs_input(X, default_n_init=10)\n"
          ]
        }
      ],
      "source": [
        "import pandas as pd\n",
        "from sklearn.cluster import KMeans\n",
        "import numpy as np\n",
        "import matplotlib.pyplot as plt\n",
        "import gensim.downloader as api\n",
        "from gensim.models import Word2Vec\n",
        "import gensim\n",
        "\n",
        "\n",
        "def get_average_word2vec(tokens_list, vector, generate_missing=False, k=300):\n",
        "    if len(tokens_list) < 1:\n",
        "        return np.zeros(k)\n",
        "    if generate_missing:\n",
        "        vectorized = [vector[word] if word in vector else np.random.rand(k) for word in tokens_list]\n",
        "    else:\n",
        "        vectorized = [vector[word] if word in vector else np.zeros(k) for word in tokens_list]\n",
        "    length = len(vectorized)\n",
        "    summed = np.sum(vectorized, axis=0)\n",
        "    averaged = np.divide(summed, length)\n",
        "    return averaged\n",
        "\n",
        "def column_to_embeddings(df, column_name, model):\n",
        "    texts = df[column_name].dropna().unique()\n",
        "    embeddings = []\n",
        "    for text in texts:\n",
        "        words = gensim.utils.simple_preprocess(text)\n",
        "        embeddings.append(get_average_word2vec(words, model))\n",
        "    return texts, np.array(embeddings)\n",
        "\n",
        "def find_optimal_clusters(embeddings, max_clusters=10):\n",
        "    wcss = []\n",
        "    for i in range(1, max_clusters + 1):\n",
        "        kmeans = KMeans(n_clusters=i, init='k-means++', max_iter=300, n_init=10, random_state=42)\n",
        "        kmeans.fit(embeddings)\n",
        "        wcss.append(kmeans.inertia_)\n",
        "    plt.plot(range(1, max_clusters + 1), wcss)\n",
        "    plt.title('Elbow Method')\n",
        "    plt.xlabel('Number of Clusters')\n",
        "    plt.ylabel('WCSS')\n",
        "    plt.show()\n",
        "\n",
        "df  # Replace with your actual file path\n",
        "\n",
        "for column in df.columns:\n",
        "    print(f\"Processing column: {column}\")\n",
        "    texts, embeddings = column_to_embeddings(df, column, word2vec_model)\n",
        "    num_unique_texts = len(texts)\n",
        "    \n",
        "    if num_unique_texts < 2:\n",
        "        print(f\"Not enough data to cluster in column '{column}'.\")\n",
        "        continue\n",
        "    \n",
        "    max_possible_clusters = min(num_unique_texts, 10)  # Dynamically set max clusters\n",
        "    find_optimal_clusters(embeddings, max_clusters=max_possible_clusters)\n",
        "    \n",
        "    # Prompt for manual input or automate the selection based on the elbow plot\n",
        "    optimal_clusters = int(input(f\"Enter the optimal number of clusters for {column} (up to {max_possible_clusters}): \"))\n",
        "    \n",
        "    if optimal_clusters <= 0 or optimal_clusters > max_possible_clusters:\n",
        "        print(\"Invalid number of clusters. Skipping.\")\n",
        "        continue\n",
        "    \n",
        "    kmeans = KMeans(n_clusters=optimal_clusters, random_state=42)\n",
        "    labels = kmeans.fit_predict(embeddings)\n",
        "    \n",
        "    # Grouping texts by their cluster labels\n",
        "    clustered_texts = {}\n",
        "    for label in np.unique(labels):\n",
        "        clustered_texts[label] = texts[labels == label].tolist()\n",
        "    \n",
        "    # Here you can process your clustered texts as needed\n",
        "    print(f\"Clustered texts for column '{column}': {clustered_texts}\")\n"
      ]
    },
    {
      "cell_type": "code",
      "execution_count": 36,
      "metadata": {
        "colab": {
          "base_uri": "https://localhost:8080/",
          "height": 472
        },
        "id": "TFX91VU2VFOQ",
        "outputId": "e9322685-b2d9-4540-8da9-0418dc1b4217"
      },
      "outputs": [
        {
          "data": {
            "image/png": "[encoded data removed]",
            "text/plain": [
              "<Figure size 640x480 with 1 Axes>"
            ]
          },
          "metadata": {},
          "output_type": "display_data"
        }
      ],
      "source": [
        "from sklearn.cluster import KMeans\n",
        "import matplotlib.pyplot as plt\n",
        "\n",
        "# Hypothetical embeddings array\n",
        "# embeddings = [...]  # This would be replaced with your actual embeddings array\n",
        "\n",
        "# Determine the optimal number of clusters\n",
        "wcss = []  # Within cluster sum of squares\n",
        "for i in range(1, 11):  # Trying different numbers of clusters\n",
        "    kmeans = KMeans(n_clusters=i, init='k-means++', max_iter=300, n_init=10, random_state=42)\n",
        "    kmeans.fit(embeddings)\n",
        "    wcss.append(kmeans.inertia_)\n",
        "\n",
        "# Plotting the results onto a line graph to observe the 'elbow'\n",
        "plt.plot(range(1, 11), wcss)\n",
        "plt.title('Elbow Method')\n",
        "plt.xlabel('Number of clusters')\n",
        "plt.ylabel('WCSS')  # Within cluster sum of squares\n",
        "plt.show()\n"
      ]
    },
    {
      "cell_type": "code",
      "execution_count": 38,
      "metadata": {
        "colab": {
          "base_uri": "https://localhost:8080/"
        },
        "id": "sNmz_PXwSbSo",
        "outputId": "a7471485-6aa8-4fb7-a421-9e49309b4a2a"
      },
      "outputs": [
        {
          "data": {
            "text/plain": [
              "{4: ['Tailoring',\n",
              "  'Chakali ( battalu wash)',\n",
              "  'Aakumachha tegulu',\n",
              "  'Groundnut oil',\n",
              "  'Vuddhulu',\n",
              "  'Tractor& milk Dairy'],\n",
              " 1: ['Driver',\n",
              "  'Dairy',\n",
              "  'RMP Docter',\n",
              "  'Nimma',\n",
              "  'Bengal gram',\n",
              "  'Coriander',\n",
              "  'Sona',\n",
              "  'JJL',\n",
              "  'Senaga',\n",
              "  'Sweet lemon',\n",
              "  'Mojaek thegulu',\n",
              "  '28',\n",
              "  'Jowar',\n",
              "  'Godhuma',\n",
              "  'Bollero',\n",
              "  'Vudhulu',\n",
              "  'Sabja',\n",
              "  'Correct',\n",
              "  'Kakara'],\n",
              " 3: ['Ammavadi',\n",
              "  'Lari Driver',\n",
              "  'Contract worker',\n",
              "  'Millets&bullero',\n",
              "  'Lari',\n",
              "  'Lari driver',\n",
              "  'NREGS',\n",
              "  'Chepalu pattadam',\n",
              "  '24000',\n",
              "  'Beedi',\n",
              "  'Yaragadd',\n",
              "  'Horsegram',\n",
              "  'Senagalu',\n",
              "  'Hursgram',\n",
              "  'Sannimma',\n",
              "  'Amudham',\n",
              "  'Mokka jonna',\n",
              "  'Mokaajonna',\n",
              "  'No',\n",
              "  'RMP Doctor',\n",
              "  'Dhobi',\n",
              "  'Kora',\n",
              "  'Dosa',\n",
              "  'Coriander leaves',\n",
              "  'Korra',\n",
              "  'Vakka chetlu',\n",
              "  'Jonna',\n",
              "  'Mokkajona',\n",
              "  'Sreeram'],\n",
              " 2: ['Travels',\n",
              "  'Tractor',\n",
              "  'Tailor',\n",
              "  'Auto',\n",
              "  'Brinjal',\n",
              "  'Corn',\n",
              "  'Sweet lemon 1',\n",
              "  'Lemon',\n",
              "  'Carrot',\n",
              "  'Tons',\n",
              "  'Betroot',\n",
              "  'Angadi',\n",
              "  'Laridriver'],\n",
              " 0: ['Bullero (auto)',\n",
              "  'Cloths Iron',\n",
              "  'Track tar',\n",
              "  'Tracter',\n",
              "  'Dhaniyalu',\n",
              "  'Pasuvula gaddi(sappa)',\n",
              "  'Daniyalu',\n",
              "  'Nuvulu',\n",
              "  'Pamaroja oil',\n",
              "  'Verukullu thegulu',\n",
              "  'Pogamanchu valana putha rarli poindi',\n",
              "  'Kayakulllu thegulu',\n",
              "  'Beetroot',\n",
              "  'Leady finger (benda)',\n",
              "  'Avisha',\n",
              "  'Paladairy',\n",
              "  'Tractor&Bollero',\n",
              "  'Maize',\n",
              "  'Mokkajonna',\n",
              "  'Mokajonna',\n",
              "  'Mokaajona',\n",
              "  'Bt cotton']}"
            ]
          },
          "execution_count": 38,
          "metadata": {},
          "output_type": "execute_result"
        }
      ],
      "source": [
        "optimal_clusters = 5\n",
        "kmeans_final = KMeans(n_clusters=optimal_clusters, init='k-means++', max_iter=300, n_init=10, random_state=42)\n",
        "clusters = kmeans_final.fit_predict(embeddings)\n",
        "\n",
        "# Now, to group the original text values based on their cluster assignments and return something similar to the earlier lists\n",
        "clustered_texts = {}\n",
        "for i, cluster_label in enumerate(clusters):\n",
        "    if cluster_label not in clustered_texts:\n",
        "        clustered_texts[cluster_label] = [unique_values[i]]\n",
        "    else:\n",
        "        clustered_texts[cluster_label].append(unique_values[i])\n",
        "\n",
        "# For simplicity and to align with previous tasks, choosing the first text in each cluster as the representative\n",
        "suggested_replacements = {cluster_id: values for cluster_id, values in clustered_texts.items()}\n",
        "\n",
        "suggested_replacements\n"
      ]
    },
    {
      "cell_type": "markdown",
      "metadata": {
        "id": "LBxFckYnUrub"
      },
      "source": [
        "Clearly, this method doesnt work out very well, but I think it's a good proof of concept. The reason it doesn't work very well is because of the fact that the BERT embeddings are general, and the data that we have here is very domain specific, so it's unable to recognize. I think if we utilize the embeddings of an ASR model or a language model that is trained on an Indian language dataset, then we can easily group together. I now try using indic-bert, which is an Indian language model\n"
      ]
    },
    {
      "cell_type": "code",
      "execution_count": null,
      "metadata": {
        "colab": {
          "base_uri": "https://localhost:8080/",
          "height": 113,
          "referenced_widgets": [
            "4890bee0dcf64225aaf538fc38bbeb93",
            "b576d3d1e9a040368b76fe17e94aa23f",
            "b58850f06a204e3a83e4dbce07b98421",
            "7498c555f7dc4732931493f5063aecda",
            "e8ba4d7b927f4e989c51319014442401",
            "19edec8babde4d999e0ab8f1d75a958d",
            "9555b157ee9b4fcca081c3351115b362",
            "c726c6baf23040c3bd89913f9a853693",
            "6546d145eb8145c08b9a97f04c1fe40d",
            "57aef559634343caa7b4e6f425d08f3b",
            "78763d8af8d94472b1a7b2a19641eadf",
            "7894859ffe3c4fc281fc52e3b06c8a55",
            "6f15da2ca59d45428320fdf4a4305043",
            "a61816da53a540a2a064bc66b8a32c89",
            "20e436dda98d4624aa23acbf66d1f7fe",
            "d5399330f0e144a494737eb884cae0b3",
            "e039c2601a004074a352eece0e29d657",
            "a3209a64ac204bc68bccf406ec3a9ad7",
            "fe6138c576ef4357bed2b392ef53ec56",
            "9f656e90a54b4d6aa4e997cd8804c7bf",
            "f8106ae225f4490bad66ec09227cad33",
            "7b878aee7ca843f1b5c9b5e398efc8ac",
            "a58537d4ae034304b049afee77dddc42",
            "e98c91e2ed80460e949fb250a1ddb5d3",
            "a44b4d8693a94c08b912cafd380add84",
            "97c2272ba2e746058446d4cd3e8469f1",
            "8f34013fe8a7451baf806760ba902fd7",
            "fb20843e99144fb8b3774ebd969ea65a",
            "ed744b2ab7e24cc7aeae70f15edeef61",
            "5ed177abcdd44a328c581ef1c76587bd",
            "ddce4f21f7014660b525015dce6767e2",
            "72e3ba67996445c9a536e3a96d348dbd",
            "b59fb4d5d6ea434fb55e5f310a8ff045"
          ]
        },
        "id": "K7WpR--cTxnB",
        "outputId": "5cb8cbde-d47f-4451-cb5d-999a0a44e840"
      },
      "outputs": [],
      "source": [
        "from transformers import AutoTokenizer, AutoModel\n",
        "import torch\n",
        "\n",
        "tokenizer = AutoTokenizer.from_pretrained(\"ai4bharat/indic-bert\")\n",
        "model = AutoModel.from_pretrained(\"ai4bharat/indic-bert\")\n"
      ]
    },
    {
      "cell_type": "code",
      "execution_count": null,
      "metadata": {
        "id": "yjpVB5wtVk5K"
      },
      "outputs": [],
      "source": [
        "# Tokenize and encode the sentences for the model\n",
        "inputs = tokenizer(unique_values, padding=True, truncation=True, return_tensors=\"pt\", max_length=128)\n",
        "\n",
        "# Generate embeddings\n",
        "with torch.no_grad():\n",
        "    outputs = model(**inputs)\n",
        "\n",
        "embeddings = outputs.last_hidden_state.mean(dim=1).numpy()\n"
      ]
    },
    {
      "cell_type": "code",
      "execution_count": 49,
      "metadata": {
        "colab": {
          "base_uri": "https://localhost:8080/"
        },
        "id": "7MD2JnKJVshY",
        "outputId": "d386c709-7093-43a8-9393-539b41ea4fc5"
      },
      "outputs": [
        {
          "name": "stderr",
          "output_type": "stream",
          "text": [
            "/usr/local/lib/python3.10/dist-packages/sklearn/cluster/_kmeans.py:870: FutureWarning: The default value of `n_init` will change from 10 to 'auto' in 1.4. Set the value of `n_init` explicitly to suppress the warning\n",
            "  warnings.warn(\n"
          ]
        }
      ],
      "source": [
        "optimal_clusters =6\n",
        "kmeans_final = KMeans(n_clusters=optimal_clusters, random_state=42)\n",
        "clusters = kmeans_final.fit_predict(embeddings)\n",
        "clustered_texts = {}\n",
        "for i, cluster_label in enumerate(clusters):\n",
        "    clustered_texts.setdefault(cluster_label, []).append(unique_values[i])\n",
        "\n",
        "# Suggesting the first text as the representative for simplicity\n",
        "suggested_replacements = {cluster_id: values for cluster_id, values in clustered_texts.items()}\n"
      ]
    },
    {
      "cell_type": "code",
      "execution_count": 50,
      "metadata": {
        "colab": {
          "base_uri": "https://localhost:8080/"
        },
        "id": "bFQ-OcXqV2zT",
        "outputId": "38d9721a-90e3-40a7-fa95-ba4ee621b423"
      },
      "outputs": [
        {
          "data": {
            "text/plain": [
              "{5: ['Tailoring',\n",
              "  'Lari Driver',\n",
              "  'Lari driver',\n",
              "  'RMP Docter',\n",
              "  'Coriander',\n",
              "  'JJL',\n",
              "  'Lemon',\n",
              "  'Sweet lemon',\n",
              "  'Groundnut oil',\n",
              "  'Vuddhulu',\n",
              "  'Leady finger (benda)'],\n",
              " 1: ['Driver',\n",
              "  'Millets&bullero',\n",
              "  'Lari',\n",
              "  'Nimma',\n",
              "  'Daniyalu',\n",
              "  'Horsegram',\n",
              "  'Senagalu',\n",
              "  'Hursgram',\n",
              "  'Carrot',\n",
              "  'Jowar',\n",
              "  'Laridriver',\n",
              "  'Dosa',\n",
              "  'Sabja',\n",
              "  'Kakara'],\n",
              " 2: ['Ammavadi',\n",
              "  'NREGS',\n",
              "  'Chepalu pattadam',\n",
              "  'Beedi',\n",
              "  'Yaragadd',\n",
              "  'Dhaniyalu',\n",
              "  'Pasuvula gaddi(sappa)',\n",
              "  'Bengal gram',\n",
              "  'Nuvulu',\n",
              "  'Senaga',\n",
              "  'Sannimma',\n",
              "  'Pamaroja oil',\n",
              "  'Amudham',\n",
              "  'Aakumachha tegulu',\n",
              "  'Verukullu thegulu',\n",
              "  'Pogamanchu valana putha rarli poindi',\n",
              "  'Kayakulllu thegulu',\n",
              "  'Mojaek thegulu',\n",
              "  'Mokka jonna',\n",
              "  'Mokaajonna',\n",
              "  'Avisha',\n",
              "  'Paladairy',\n",
              "  'Dhobi',\n",
              "  'Vudhulu',\n",
              "  'Korra',\n",
              "  'Mokkajonna',\n",
              "  'Vakka chetlu',\n",
              "  'Mokkajona',\n",
              "  'Mokajonna',\n",
              "  'Mokaajona',\n",
              "  'Bt cotton',\n",
              "  'Sreeram'],\n",
              " 4: ['Travels',\n",
              "  'Dairy',\n",
              "  'Tractor',\n",
              "  'Tailor',\n",
              "  'Auto',\n",
              "  'Cloths Iron',\n",
              "  'Track tar',\n",
              "  'Tracter',\n",
              "  'Brinjal',\n",
              "  'Corn',\n",
              "  '28',\n",
              "  'Tons',\n",
              "  'Betroot',\n",
              "  'Angadi',\n",
              "  'Correct'],\n",
              " 3: ['Contract worker',\n",
              "  'Bullero (auto)',\n",
              "  '24000',\n",
              "  'Sona',\n",
              "  'Godhuma',\n",
              "  'No',\n",
              "  'Tractor& milk Dairy',\n",
              "  'RMP Doctor',\n",
              "  'Bollero',\n",
              "  'Tractor&Bollero',\n",
              "  'Kora',\n",
              "  'Maize',\n",
              "  'Jonna'],\n",
              " 0: ['Chakali ( battalu wash)',\n",
              "  'Sweet lemon 1',\n",
              "  'Beetroot',\n",
              "  'Coriander leaves']}"
            ]
          },
          "execution_count": 50,
          "metadata": {},
          "output_type": "execute_result"
        }
      ],
      "source": [
        "suggested_replacements"
      ]
    },
    {
      "cell_type": "code",
      "execution_count": null,
      "metadata": {},
      "outputs": [],
      "source": []
    }
  ],
  "metadata": {
    "colab": {
      "provenance": []
    },
    "kernelspec": {
      "display_name": "Python 3",
      "name": "python3"
    },
    "language_info": {
      "codemirror_mode": {
        "name": "ipython",
        "version": 3
      },
      "file_extension": ".py",
      "mimetype": "text/x-python",
      "name": "python",
      "nbconvert_exporter": "python",
      "pygments_lexer": "ipython3",
      "version": "3.11.5"
    },
    "widgets": {
      "application/vnd.jupyter.widget-state+json": {
        "19edec8babde4d999e0ab8f1d75a958d": {
          "model_module": "@jupyter-widgets/base",
          "model_module_version": "1.2.0",
          "model_name": "LayoutModel",
          "state": {
            "_model_module": "@jupyter-widgets/base",
            "_model_module_version": "1.2.0",
            "_model_name": "LayoutModel",
            "_view_count": null,
            "_view_module": "@jupyter-widgets/base",
            "_view_module_version": "1.2.0",
            "_view_name": "LayoutView",
            "align_content": null,
            "align_items": null,
            "align_self": null,
            "border": null,
            "bottom": null,
            "display": null,
            "flex": null,
            "flex_flow": null,
            "grid_area": null,
            "grid_auto_columns": null,
            "grid_auto_flow": null,
            "grid_auto_rows": null,
            "grid_column": null,
            "grid_gap": null,
            "grid_row": null,
            "grid_template_areas": null,
            "grid_template_columns": null,
            "grid_template_rows": null,
            "height": null,
            "justify_content": null,
            "justify_items": null,
            "left": null,
            "margin": null,
            "max_height": null,
            "max_width": null,
            "min_height": null,
            "min_width": null,
            "object_fit": null,
            "object_position": null,
            "order": null,
            "overflow": null,
            "overflow_x": null,
            "overflow_y": null,
            "padding": null,
            "right": null,
            "top": null,
            "visibility": null,
            "width": null
          }
        },
        "20e436dda98d4624aa23acbf66d1f7fe": {
          "model_module": "@jupyter-widgets/controls",
          "model_module_version": "1.5.0",
          "model_name": "HTMLModel",
          "state": {
            "_dom_classes": [],
            "_model_module": "@jupyter-widgets/controls",
            "_model_module_version": "1.5.0",
            "_model_name": "HTMLModel",
            "_view_count": null,
            "_view_module": "@jupyter-widgets/controls",
            "_view_module_version": "1.5.0",
            "_view_name": "HTMLView",
            "description": "",
            "description_tooltip": null,
            "layout": "IPY_MODEL_f8106ae225f4490bad66ec09227cad33",
            "placeholder": "​",
            "style": "IPY_MODEL_7b878aee7ca843f1b5c9b5e398efc8ac",
            "value": " 5.65M/5.65M [00:01&lt;00:00, 4.02MB/s]"
          }
        },
        "4890bee0dcf64225aaf538fc38bbeb93": {
          "model_module": "@jupyter-widgets/controls",
          "model_module_version": "1.5.0",
          "model_name": "HBoxModel",
          "state": {
            "_dom_classes": [],
            "_model_module": "@jupyter-widgets/controls",
            "_model_module_version": "1.5.0",
            "_model_name": "HBoxModel",
            "_view_count": null,
            "_view_module": "@jupyter-widgets/controls",
            "_view_module_version": "1.5.0",
            "_view_name": "HBoxView",
            "box_style": "",
            "children": [
              "IPY_MODEL_b576d3d1e9a040368b76fe17e94aa23f",
              "IPY_MODEL_b58850f06a204e3a83e4dbce07b98421",
              "IPY_MODEL_7498c555f7dc4732931493f5063aecda"
            ],
            "layout": "IPY_MODEL_e8ba4d7b927f4e989c51319014442401"
          }
        },
        "57aef559634343caa7b4e6f425d08f3b": {
          "model_module": "@jupyter-widgets/base",
          "model_module_version": "1.2.0",
          "model_name": "LayoutModel",
          "state": {
            "_model_module": "@jupyter-widgets/base",
            "_model_module_version": "1.2.0",
            "_model_name": "LayoutModel",
            "_view_count": null,
            "_view_module": "@jupyter-widgets/base",
            "_view_module_version": "1.2.0",
            "_view_name": "LayoutView",
            "align_content": null,
            "align_items": null,
            "align_self": null,
            "border": null,
            "bottom": null,
            "display": null,
            "flex": null,
            "flex_flow": null,
            "grid_area": null,
            "grid_auto_columns": null,
            "grid_auto_flow": null,
            "grid_auto_rows": null,
            "grid_column": null,
            "grid_gap": null,
            "grid_row": null,
            "grid_template_areas": null,
            "grid_template_columns": null,
            "grid_template_rows": null,
            "height": null,
            "justify_content": null,
            "justify_items": null,
            "left": null,
            "margin": null,
            "max_height": null,
            "max_width": null,
            "min_height": null,
            "min_width": null,
            "object_fit": null,
            "object_position": null,
            "order": null,
            "overflow": null,
            "overflow_x": null,
            "overflow_y": null,
            "padding": null,
            "right": null,
            "top": null,
            "visibility": null,
            "width": null
          }
        },
        "5ed177abcdd44a328c581ef1c76587bd": {
          "model_module": "@jupyter-widgets/base",
          "model_module_version": "1.2.0",
          "model_name": "LayoutModel",
          "state": {
            "_model_module": "@jupyter-widgets/base",
            "_model_module_version": "1.2.0",
            "_model_name": "LayoutModel",
            "_view_count": null,
            "_view_module": "@jupyter-widgets/base",
            "_view_module_version": "1.2.0",
            "_view_name": "LayoutView",
            "align_content": null,
            "align_items": null,
            "align_self": null,
            "border": null,
            "bottom": null,
            "display": null,
            "flex": null,
            "flex_flow": null,
            "grid_area": null,
            "grid_auto_columns": null,
            "grid_auto_flow": null,
            "grid_auto_rows": null,
            "grid_column": null,
            "grid_gap": null,
            "grid_row": null,
            "grid_template_areas": null,
            "grid_template_columns": null,
            "grid_template_rows": null,
            "height": null,
            "justify_content": null,
            "justify_items": null,
            "left": null,
            "margin": null,
            "max_height": null,
            "max_width": null,
            "min_height": null,
            "min_width": null,
            "object_fit": null,
            "object_position": null,
            "order": null,
            "overflow": null,
            "overflow_x": null,
            "overflow_y": null,
            "padding": null,
            "right": null,
            "top": null,
            "visibility": null,
            "width": null
          }
        },
        "6546d145eb8145c08b9a97f04c1fe40d": {
          "model_module": "@jupyter-widgets/controls",
          "model_module_version": "1.5.0",
          "model_name": "ProgressStyleModel",
          "state": {
            "_model_module": "@jupyter-widgets/controls",
            "_model_module_version": "1.5.0",
            "_model_name": "ProgressStyleModel",
            "_view_count": null,
            "_view_module": "@jupyter-widgets/base",
            "_view_module_version": "1.2.0",
            "_view_name": "StyleView",
            "bar_color": null,
            "description_width": ""
          }
        },
        "6f15da2ca59d45428320fdf4a4305043": {
          "model_module": "@jupyter-widgets/controls",
          "model_module_version": "1.5.0",
          "model_name": "HTMLModel",
          "state": {
            "_dom_classes": [],
            "_model_module": "@jupyter-widgets/controls",
            "_model_module_version": "1.5.0",
            "_model_name": "HTMLModel",
            "_view_count": null,
            "_view_module": "@jupyter-widgets/controls",
            "_view_module_version": "1.5.0",
            "_view_name": "HTMLView",
            "description": "",
            "description_tooltip": null,
            "layout": "IPY_MODEL_e039c2601a004074a352eece0e29d657",
            "placeholder": "​",
            "style": "IPY_MODEL_a3209a64ac204bc68bccf406ec3a9ad7",
            "value": "spiece.model: 100%"
          }
        },
        "72e3ba67996445c9a536e3a96d348dbd": {
          "model_module": "@jupyter-widgets/base",
          "model_module_version": "1.2.0",
          "model_name": "LayoutModel",
          "state": {
            "_model_module": "@jupyter-widgets/base",
            "_model_module_version": "1.2.0",
            "_model_name": "LayoutModel",
            "_view_count": null,
            "_view_module": "@jupyter-widgets/base",
            "_view_module_version": "1.2.0",
            "_view_name": "LayoutView",
            "align_content": null,
            "align_items": null,
            "align_self": null,
            "border": null,
            "bottom": null,
            "display": null,
            "flex": null,
            "flex_flow": null,
            "grid_area": null,
            "grid_auto_columns": null,
            "grid_auto_flow": null,
            "grid_auto_rows": null,
            "grid_column": null,
            "grid_gap": null,
            "grid_row": null,
            "grid_template_areas": null,
            "grid_template_columns": null,
            "grid_template_rows": null,
            "height": null,
            "justify_content": null,
            "justify_items": null,
            "left": null,
            "margin": null,
            "max_height": null,
            "max_width": null,
            "min_height": null,
            "min_width": null,
            "object_fit": null,
            "object_position": null,
            "order": null,
            "overflow": null,
            "overflow_x": null,
            "overflow_y": null,
            "padding": null,
            "right": null,
            "top": null,
            "visibility": null,
            "width": null
          }
        },
        "7498c555f7dc4732931493f5063aecda": {
          "model_module": "@jupyter-widgets/controls",
          "model_module_version": "1.5.0",
          "model_name": "HTMLModel",
          "state": {
            "_dom_classes": [],
            "_model_module": "@jupyter-widgets/controls",
            "_model_module_version": "1.5.0",
            "_model_name": "HTMLModel",
            "_view_count": null,
            "_view_module": "@jupyter-widgets/controls",
            "_view_module_version": "1.5.0",
            "_view_name": "HTMLView",
            "description": "",
            "description_tooltip": null,
            "layout": "IPY_MODEL_57aef559634343caa7b4e6f425d08f3b",
            "placeholder": "​",
            "style": "IPY_MODEL_78763d8af8d94472b1a7b2a19641eadf",
            "value": " 507/507 [00:00&lt;00:00, 14.6kB/s]"
          }
        },
        "78763d8af8d94472b1a7b2a19641eadf": {
          "model_module": "@jupyter-widgets/controls",
          "model_module_version": "1.5.0",
          "model_name": "DescriptionStyleModel",
          "state": {
            "_model_module": "@jupyter-widgets/controls",
            "_model_module_version": "1.5.0",
            "_model_name": "DescriptionStyleModel",
            "_view_count": null,
            "_view_module": "@jupyter-widgets/base",
            "_view_module_version": "1.2.0",
            "_view_name": "StyleView",
            "description_width": ""
          }
        },
        "7894859ffe3c4fc281fc52e3b06c8a55": {
          "model_module": "@jupyter-widgets/controls",
          "model_module_version": "1.5.0",
          "model_name": "HBoxModel",
          "state": {
            "_dom_classes": [],
            "_model_module": "@jupyter-widgets/controls",
            "_model_module_version": "1.5.0",
            "_model_name": "HBoxModel",
            "_view_count": null,
            "_view_module": "@jupyter-widgets/controls",
            "_view_module_version": "1.5.0",
            "_view_name": "HBoxView",
            "box_style": "",
            "children": [
              "IPY_MODEL_6f15da2ca59d45428320fdf4a4305043",
              "IPY_MODEL_a61816da53a540a2a064bc66b8a32c89",
              "IPY_MODEL_20e436dda98d4624aa23acbf66d1f7fe"
            ],
            "layout": "IPY_MODEL_d5399330f0e144a494737eb884cae0b3"
          }
        },
        "7b878aee7ca843f1b5c9b5e398efc8ac": {
          "model_module": "@jupyter-widgets/controls",
          "model_module_version": "1.5.0",
          "model_name": "DescriptionStyleModel",
          "state": {
            "_model_module": "@jupyter-widgets/controls",
            "_model_module_version": "1.5.0",
            "_model_name": "DescriptionStyleModel",
            "_view_count": null,
            "_view_module": "@jupyter-widgets/base",
            "_view_module_version": "1.2.0",
            "_view_name": "StyleView",
            "description_width": ""
          }
        },
        "8f34013fe8a7451baf806760ba902fd7": {
          "model_module": "@jupyter-widgets/base",
          "model_module_version": "1.2.0",
          "model_name": "LayoutModel",
          "state": {
            "_model_module": "@jupyter-widgets/base",
            "_model_module_version": "1.2.0",
            "_model_name": "LayoutModel",
            "_view_count": null,
            "_view_module": "@jupyter-widgets/base",
            "_view_module_version": "1.2.0",
            "_view_name": "LayoutView",
            "align_content": null,
            "align_items": null,
            "align_self": null,
            "border": null,
            "bottom": null,
            "display": null,
            "flex": null,
            "flex_flow": null,
            "grid_area": null,
            "grid_auto_columns": null,
            "grid_auto_flow": null,
            "grid_auto_rows": null,
            "grid_column": null,
            "grid_gap": null,
            "grid_row": null,
            "grid_template_areas": null,
            "grid_template_columns": null,
            "grid_template_rows": null,
            "height": null,
            "justify_content": null,
            "justify_items": null,
            "left": null,
            "margin": null,
            "max_height": null,
            "max_width": null,
            "min_height": null,
            "min_width": null,
            "object_fit": null,
            "object_position": null,
            "order": null,
            "overflow": null,
            "overflow_x": null,
            "overflow_y": null,
            "padding": null,
            "right": null,
            "top": null,
            "visibility": null,
            "width": null
          }
        },
        "9555b157ee9b4fcca081c3351115b362": {
          "model_module": "@jupyter-widgets/controls",
          "model_module_version": "1.5.0",
          "model_name": "DescriptionStyleModel",
          "state": {
            "_model_module": "@jupyter-widgets/controls",
            "_model_module_version": "1.5.0",
            "_model_name": "DescriptionStyleModel",
            "_view_count": null,
            "_view_module": "@jupyter-widgets/base",
            "_view_module_version": "1.2.0",
            "_view_name": "StyleView",
            "description_width": ""
          }
        },
        "97c2272ba2e746058446d4cd3e8469f1": {
          "model_module": "@jupyter-widgets/controls",
          "model_module_version": "1.5.0",
          "model_name": "HTMLModel",
          "state": {
            "_dom_classes": [],
            "_model_module": "@jupyter-widgets/controls",
            "_model_module_version": "1.5.0",
            "_model_name": "HTMLModel",
            "_view_count": null,
            "_view_module": "@jupyter-widgets/controls",
            "_view_module_version": "1.5.0",
            "_view_name": "HTMLView",
            "description": "",
            "description_tooltip": null,
            "layout": "IPY_MODEL_72e3ba67996445c9a536e3a96d348dbd",
            "placeholder": "​",
            "style": "IPY_MODEL_b59fb4d5d6ea434fb55e5f310a8ff045",
            "value": " 135M/135M [00:01&lt;00:00, 85.5MB/s]"
          }
        },
        "9f656e90a54b4d6aa4e997cd8804c7bf": {
          "model_module": "@jupyter-widgets/controls",
          "model_module_version": "1.5.0",
          "model_name": "ProgressStyleModel",
          "state": {
            "_model_module": "@jupyter-widgets/controls",
            "_model_module_version": "1.5.0",
            "_model_name": "ProgressStyleModel",
            "_view_count": null,
            "_view_module": "@jupyter-widgets/base",
            "_view_module_version": "1.2.0",
            "_view_name": "StyleView",
            "bar_color": null,
            "description_width": ""
          }
        },
        "a3209a64ac204bc68bccf406ec3a9ad7": {
          "model_module": "@jupyter-widgets/controls",
          "model_module_version": "1.5.0",
          "model_name": "DescriptionStyleModel",
          "state": {
            "_model_module": "@jupyter-widgets/controls",
            "_model_module_version": "1.5.0",
            "_model_name": "DescriptionStyleModel",
            "_view_count": null,
            "_view_module": "@jupyter-widgets/base",
            "_view_module_version": "1.2.0",
            "_view_name": "StyleView",
            "description_width": ""
          }
        },
        "a44b4d8693a94c08b912cafd380add84": {
          "model_module": "@jupyter-widgets/controls",
          "model_module_version": "1.5.0",
          "model_name": "FloatProgressModel",
          "state": {
            "_dom_classes": [],
            "_model_module": "@jupyter-widgets/controls",
            "_model_module_version": "1.5.0",
            "_model_name": "FloatProgressModel",
            "_view_count": null,
            "_view_module": "@jupyter-widgets/controls",
            "_view_module_version": "1.5.0",
            "_view_name": "ProgressView",
            "bar_style": "success",
            "description": "",
            "description_tooltip": null,
            "layout": "IPY_MODEL_5ed177abcdd44a328c581ef1c76587bd",
            "max": 134982446,
            "min": 0,
            "orientation": "horizontal",
            "style": "IPY_MODEL_ddce4f21f7014660b525015dce6767e2",
            "value": 134982446
          }
        },
        "a58537d4ae034304b049afee77dddc42": {
          "model_module": "@jupyter-widgets/controls",
          "model_module_version": "1.5.0",
          "model_name": "HBoxModel",
          "state": {
            "_dom_classes": [],
            "_model_module": "@jupyter-widgets/controls",
            "_model_module_version": "1.5.0",
            "_model_name": "HBoxModel",
            "_view_count": null,
            "_view_module": "@jupyter-widgets/controls",
            "_view_module_version": "1.5.0",
            "_view_name": "HBoxView",
            "box_style": "",
            "children": [
              "IPY_MODEL_e98c91e2ed80460e949fb250a1ddb5d3",
              "IPY_MODEL_a44b4d8693a94c08b912cafd380add84",
              "IPY_MODEL_97c2272ba2e746058446d4cd3e8469f1"
            ],
            "layout": "IPY_MODEL_8f34013fe8a7451baf806760ba902fd7"
          }
        },
        "a61816da53a540a2a064bc66b8a32c89": {
          "model_module": "@jupyter-widgets/controls",
          "model_module_version": "1.5.0",
          "model_name": "FloatProgressModel",
          "state": {
            "_dom_classes": [],
            "_model_module": "@jupyter-widgets/controls",
            "_model_module_version": "1.5.0",
            "_model_name": "FloatProgressModel",
            "_view_count": null,
            "_view_module": "@jupyter-widgets/controls",
            "_view_module_version": "1.5.0",
            "_view_name": "ProgressView",
            "bar_style": "success",
            "description": "",
            "description_tooltip": null,
            "layout": "IPY_MODEL_fe6138c576ef4357bed2b392ef53ec56",
            "max": 5646064,
            "min": 0,
            "orientation": "horizontal",
            "style": "IPY_MODEL_9f656e90a54b4d6aa4e997cd8804c7bf",
            "value": 5646064
          }
        },
        "b576d3d1e9a040368b76fe17e94aa23f": {
          "model_module": "@jupyter-widgets/controls",
          "model_module_version": "1.5.0",
          "model_name": "HTMLModel",
          "state": {
            "_dom_classes": [],
            "_model_module": "@jupyter-widgets/controls",
            "_model_module_version": "1.5.0",
            "_model_name": "HTMLModel",
            "_view_count": null,
            "_view_module": "@jupyter-widgets/controls",
            "_view_module_version": "1.5.0",
            "_view_name": "HTMLView",
            "description": "",
            "description_tooltip": null,
            "layout": "IPY_MODEL_19edec8babde4d999e0ab8f1d75a958d",
            "placeholder": "​",
            "style": "IPY_MODEL_9555b157ee9b4fcca081c3351115b362",
            "value": "config.json: 100%"
          }
        },
        "b58850f06a204e3a83e4dbce07b98421": {
          "model_module": "@jupyter-widgets/controls",
          "model_module_version": "1.5.0",
          "model_name": "FloatProgressModel",
          "state": {
            "_dom_classes": [],
            "_model_module": "@jupyter-widgets/controls",
            "_model_module_version": "1.5.0",
            "_model_name": "FloatProgressModel",
            "_view_count": null,
            "_view_module": "@jupyter-widgets/controls",
            "_view_module_version": "1.5.0",
            "_view_name": "ProgressView",
            "bar_style": "success",
            "description": "",
            "description_tooltip": null,
            "layout": "IPY_MODEL_c726c6baf23040c3bd89913f9a853693",
            "max": 507,
            "min": 0,
            "orientation": "horizontal",
            "style": "IPY_MODEL_6546d145eb8145c08b9a97f04c1fe40d",
            "value": 507
          }
        },
        "b59fb4d5d6ea434fb55e5f310a8ff045": {
          "model_module": "@jupyter-widgets/controls",
          "model_module_version": "1.5.0",
          "model_name": "DescriptionStyleModel",
          "state": {
            "_model_module": "@jupyter-widgets/controls",
            "_model_module_version": "1.5.0",
            "_model_name": "DescriptionStyleModel",
            "_view_count": null,
            "_view_module": "@jupyter-widgets/base",
            "_view_module_version": "1.2.0",
            "_view_name": "StyleView",
            "description_width": ""
          }
        },
        "c726c6baf23040c3bd89913f9a853693": {
          "model_module": "@jupyter-widgets/base",
          "model_module_version": "1.2.0",
          "model_name": "LayoutModel",
          "state": {
            "_model_module": "@jupyter-widgets/base",
            "_model_module_version": "1.2.0",
            "_model_name": "LayoutModel",
            "_view_count": null,
            "_view_module": "@jupyter-widgets/base",
            "_view_module_version": "1.2.0",
            "_view_name": "LayoutView",
            "align_content": null,
            "align_items": null,
            "align_self": null,
            "border": null,
            "bottom": null,
            "display": null,
            "flex": null,
            "flex_flow": null,
            "grid_area": null,
            "grid_auto_columns": null,
            "grid_auto_flow": null,
            "grid_auto_rows": null,
            "grid_column": null,
            "grid_gap": null,
            "grid_row": null,
            "grid_template_areas": null,
            "grid_template_columns": null,
            "grid_template_rows": null,
            "height": null,
            "justify_content": null,
            "justify_items": null,
            "left": null,
            "margin": null,
            "max_height": null,
            "max_width": null,
            "min_height": null,
            "min_width": null,
            "object_fit": null,
            "object_position": null,
            "order": null,
            "overflow": null,
            "overflow_x": null,
            "overflow_y": null,
            "padding": null,
            "right": null,
            "top": null,
            "visibility": null,
            "width": null
          }
        },
        "d5399330f0e144a494737eb884cae0b3": {
          "model_module": "@jupyter-widgets/base",
          "model_module_version": "1.2.0",
          "model_name": "LayoutModel",
          "state": {
            "_model_module": "@jupyter-widgets/base",
            "_model_module_version": "1.2.0",
            "_model_name": "LayoutModel",
            "_view_count": null,
            "_view_module": "@jupyter-widgets/base",
            "_view_module_version": "1.2.0",
            "_view_name": "LayoutView",
            "align_content": null,
            "align_items": null,
            "align_self": null,
            "border": null,
            "bottom": null,
            "display": null,
            "flex": null,
            "flex_flow": null,
            "grid_area": null,
            "grid_auto_columns": null,
            "grid_auto_flow": null,
            "grid_auto_rows": null,
            "grid_column": null,
            "grid_gap": null,
            "grid_row": null,
            "grid_template_areas": null,
            "grid_template_columns": null,
            "grid_template_rows": null,
            "height": null,
            "justify_content": null,
            "justify_items": null,
            "left": null,
            "margin": null,
            "max_height": null,
            "max_width": null,
            "min_height": null,
            "min_width": null,
            "object_fit": null,
            "object_position": null,
            "order": null,
            "overflow": null,
            "overflow_x": null,
            "overflow_y": null,
            "padding": null,
            "right": null,
            "top": null,
            "visibility": null,
            "width": null
          }
        },
        "ddce4f21f7014660b525015dce6767e2": {
          "model_module": "@jupyter-widgets/controls",
          "model_module_version": "1.5.0",
          "model_name": "ProgressStyleModel",
          "state": {
            "_model_module": "@jupyter-widgets/controls",
            "_model_module_version": "1.5.0",
            "_model_name": "ProgressStyleModel",
            "_view_count": null,
            "_view_module": "@jupyter-widgets/base",
            "_view_module_version": "1.2.0",
            "_view_name": "StyleView",
            "bar_color": null,
            "description_width": ""
          }
        },
        "e039c2601a004074a352eece0e29d657": {
          "model_module": "@jupyter-widgets/base",
          "model_module_version": "1.2.0",
          "model_name": "LayoutModel",
          "state": {
            "_model_module": "@jupyter-widgets/base",
            "_model_module_version": "1.2.0",
            "_model_name": "LayoutModel",
            "_view_count": null,
            "_view_module": "@jupyter-widgets/base",
            "_view_module_version": "1.2.0",
            "_view_name": "LayoutView",
            "align_content": null,
            "align_items": null,
            "align_self": null,
            "border": null,
            "bottom": null,
            "display": null,
            "flex": null,
            "flex_flow": null,
            "grid_area": null,
            "grid_auto_columns": null,
            "grid_auto_flow": null,
            "grid_auto_rows": null,
            "grid_column": null,
            "grid_gap": null,
            "grid_row": null,
            "grid_template_areas": null,
            "grid_template_columns": null,
            "grid_template_rows": null,
            "height": null,
            "justify_content": null,
            "justify_items": null,
            "left": null,
            "margin": null,
            "max_height": null,
            "max_width": null,
            "min_height": null,
            "min_width": null,
            "object_fit": null,
            "object_position": null,
            "order": null,
            "overflow": null,
            "overflow_x": null,
            "overflow_y": null,
            "padding": null,
            "right": null,
            "top": null,
            "visibility": null,
            "width": null
          }
        },
        "e8ba4d7b927f4e989c51319014442401": {
          "model_module": "@jupyter-widgets/base",
          "model_module_version": "1.2.0",
          "model_name": "LayoutModel",
          "state": {
            "_model_module": "@jupyter-widgets/base",
            "_model_module_version": "1.2.0",
            "_model_name": "LayoutModel",
            "_view_count": null,
            "_view_module": "@jupyter-widgets/base",
            "_view_module_version": "1.2.0",
            "_view_name": "LayoutView",
            "align_content": null,
            "align_items": null,
            "align_self": null,
            "border": null,
            "bottom": null,
            "display": null,
            "flex": null,
            "flex_flow": null,
            "grid_area": null,
            "grid_auto_columns": null,
            "grid_auto_flow": null,
            "grid_auto_rows": null,
            "grid_column": null,
            "grid_gap": null,
            "grid_row": null,
            "grid_template_areas": null,
            "grid_template_columns": null,
            "grid_template_rows": null,
            "height": null,
            "justify_content": null,
            "justify_items": null,
            "left": null,
            "margin": null,
            "max_height": null,
            "max_width": null,
            "min_height": null,
            "min_width": null,
            "object_fit": null,
            "object_position": null,
            "order": null,
            "overflow": null,
            "overflow_x": null,
            "overflow_y": null,
            "padding": null,
            "right": null,
            "top": null,
            "visibility": null,
            "width": null
          }
        },
        "e98c91e2ed80460e949fb250a1ddb5d3": {
          "model_module": "@jupyter-widgets/controls",
          "model_module_version": "1.5.0",
          "model_name": "HTMLModel",
          "state": {
            "_dom_classes": [],
            "_model_module": "@jupyter-widgets/controls",
            "_model_module_version": "1.5.0",
            "_model_name": "HTMLModel",
            "_view_count": null,
            "_view_module": "@jupyter-widgets/controls",
            "_view_module_version": "1.5.0",
            "_view_name": "HTMLView",
            "description": "",
            "description_tooltip": null,
            "layout": "IPY_MODEL_fb20843e99144fb8b3774ebd969ea65a",
            "placeholder": "​",
            "style": "IPY_MODEL_ed744b2ab7e24cc7aeae70f15edeef61",
            "value": "pytorch_model.bin: 100%"
          }
        },
        "ed744b2ab7e24cc7aeae70f15edeef61": {
          "model_module": "@jupyter-widgets/controls",
          "model_module_version": "1.5.0",
          "model_name": "DescriptionStyleModel",
          "state": {
            "_model_module": "@jupyter-widgets/controls",
            "_model_module_version": "1.5.0",
            "_model_name": "DescriptionStyleModel",
            "_view_count": null,
            "_view_module": "@jupyter-widgets/base",
            "_view_module_version": "1.2.0",
            "_view_name": "StyleView",
            "description_width": ""
          }
        },
        "f8106ae225f4490bad66ec09227cad33": {
          "model_module": "@jupyter-widgets/base",
          "model_module_version": "1.2.0",
          "model_name": "LayoutModel",
          "state": {
            "_model_module": "@jupyter-widgets/base",
            "_model_module_version": "1.2.0",
            "_model_name": "LayoutModel",
            "_view_count": null,
            "_view_module": "@jupyter-widgets/base",
            "_view_module_version": "1.2.0",
            "_view_name": "LayoutView",
            "align_content": null,
            "align_items": null,
            "align_self": null,
            "border": null,
            "bottom": null,
            "display": null,
            "flex": null,
            "flex_flow": null,
            "grid_area": null,
            "grid_auto_columns": null,
            "grid_auto_flow": null,
            "grid_auto_rows": null,
            "grid_column": null,
            "grid_gap": null,
            "grid_row": null,
            "grid_template_areas": null,
            "grid_template_columns": null,
            "grid_template_rows": null,
            "height": null,
            "justify_content": null,
            "justify_items": null,
            "left": null,
            "margin": null,
            "max_height": null,
            "max_width": null,
            "min_height": null,
            "min_width": null,
            "object_fit": null,
            "object_position": null,
            "order": null,
            "overflow": null,
            "overflow_x": null,
            "overflow_y": null,
            "padding": null,
            "right": null,
            "top": null,
            "visibility": null,
            "width": null
          }
        },
        "fb20843e99144fb8b3774ebd969ea65a": {
          "model_module": "@jupyter-widgets/base",
          "model_module_version": "1.2.0",
          "model_name": "LayoutModel",
          "state": {
            "_model_module": "@jupyter-widgets/base",
            "_model_module_version": "1.2.0",
            "_model_name": "LayoutModel",
            "_view_count": null,
            "_view_module": "@jupyter-widgets/base",
            "_view_module_version": "1.2.0",
            "_view_name": "LayoutView",
            "align_content": null,
            "align_items": null,
            "align_self": null,
            "border": null,
            "bottom": null,
            "display": null,
            "flex": null,
            "flex_flow": null,
            "grid_area": null,
            "grid_auto_columns": null,
            "grid_auto_flow": null,
            "grid_auto_rows": null,
            "grid_column": null,
            "grid_gap": null,
            "grid_row": null,
            "grid_template_areas": null,
            "grid_template_columns": null,
            "grid_template_rows": null,
            "height": null,
            "justify_content": null,
            "justify_items": null,
            "left": null,
            "margin": null,
            "max_height": null,
            "max_width": null,
            "min_height": null,
            "min_width": null,
            "object_fit": null,
            "object_position": null,
            "order": null,
            "overflow": null,
            "overflow_x": null,
            "overflow_y": null,
            "padding": null,
            "right": null,
            "top": null,
            "visibility": null,
            "width": null
          }
        },
        "fe6138c576ef4357bed2b392ef53ec56": {
          "model_module": "@jupyter-widgets/base",
          "model_module_version": "1.2.0",
          "model_name": "LayoutModel",
          "state": {
            "_model_module": "@jupyter-widgets/base",
            "_model_module_version": "1.2.0",
            "_model_name": "LayoutModel",
            "_view_count": null,
            "_view_module": "@jupyter-widgets/base",
            "_view_module_version": "1.2.0",
            "_view_name": "LayoutView",
            "align_content": null,
            "align_items": null,
            "align_self": null,
            "border": null,
            "bottom": null,
            "display": null,
            "flex": null,
            "flex_flow": null,
            "grid_area": null,
            "grid_auto_columns": null,
            "grid_auto_flow": null,
            "grid_auto_rows": null,
            "grid_column": null,
            "grid_gap": null,
            "grid_row": null,
            "grid_template_areas": null,
            "grid_template_columns": null,
            "grid_template_rows": null,
            "height": null,
            "justify_content": null,
            "justify_items": null,
            "left": null,
            "margin": null,
            "max_height": null,
            "max_width": null,
            "min_height": null,
            "min_width": null,
            "object_fit": null,
            "object_position": null,
            "order": null,
            "overflow": null,
            "overflow_x": null,
            "overflow_y": null,
            "padding": null,
            "right": null,
            "top": null,
            "visibility": null,
            "width": null
          }
        }
      }
    }
  },
  "nbformat": 4,
  "nbformat_minor": 0
}
